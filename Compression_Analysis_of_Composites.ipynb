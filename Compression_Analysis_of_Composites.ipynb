{
 "cells": [
  {
   "cell_type": "code",
   "execution_count": 13,
   "metadata": {
    "collapsed": true
   },
   "outputs": [],
   "source": [
    "# Getting the input data\n",
    "import os\n",
    "import pandas as pd\n",
    "import numpy as np\n",
    "import matplotlib.pyplot as plt \n",
    "from scipy import stats \n",
    "import shutil"
   ]
  },
  {
   "cell_type": "code",
   "execution_count": 14,
   "metadata": {
    "collapsed": false,
    "scrolled": false
   },
   "outputs": [
    {
     "name": "stdout",
     "output_type": "stream",
     "text": [
      "Input_length:\n",
      "838\n",
      "       Disp      Force      Time\n",
      "0 -2.079825 -50.325951  0.523438\n",
      "1 -2.080495 -51.108768  1.023438\n",
      "2 -2.079976 -52.669689  1.523438\n",
      "3 -2.080350 -52.909252  2.023438\n",
      "4 -2.080089 -51.498951  2.523438\n",
      "   Stage  DIC_strain\n",
      "0    1.0   -0.002038\n",
      "1    2.0    0.003446\n",
      "2    3.0    0.001945\n",
      "3    4.0    0.002530\n",
      "4    5.0    0.001765\n"
     ]
    }
   ],
   "source": [
    "os.chdir('/Users/nicolethomas/Google Drive/Grad School/IACMI Project/Python') #Set directory\n",
    "# Reading all the data in csv format to the data frame\n",
    "\n",
    "forces = pd.read_csv(\"specimen.csv\",skiprows = 5,usecols=[0,2,5],names = ['Disp','Force','Time']).dropna(axis = 0) \n",
    "forces = forces.apply(pd.to_numeric, errors ='coerce') #Change text format to numeric\n",
    "dic_strain= pd.read_csv(\"ey_strain.csv\",skiprows = 1,names =['Stage','DIC_strain']).dropna(axis =0)\n",
    "dic_strain = dic_strain.apply(pd.to_numeric, errors='coerce') #Change text format to numeric\n",
    "\n",
    "#I don't think we need mises strain for composites\n",
    "#mises = pd.read_csv(\"mises.csv\",skiprows = 3, names =['Stage','mises_strain']).dropna(axis = 0)\n",
    "#mises = mises.apply(pd.to_numeric, errors='coerce')\n",
    "\n",
    "#Should add dimensions file asap\n",
    "#Dimensions = pd.read_table(\"Dimensions.txt\")\n",
    "\n",
    "#test print(forces)\n",
    "#test print(dic_strain)\n",
    "print('Input_length:')\n",
    "print(len(dic_strain))\n",
    "print(forces.head(5))\n",
    "print(dic_strain.head(5))"
   ]
  },
  {
   "cell_type": "code",
   "execution_count": 15,
   "metadata": {
    "collapsed": false,
    "scrolled": false
   },
   "outputs": [
    {
     "name": "stdout",
     "output_type": "stream",
     "text": [
      "-22201.094\n",
      "Input the width of the sample in millimeters:9.1\n",
      "0.0091\n",
      "Input the thickness of the sample in millimeters:5.7\n",
      "5.187e-05\n",
      "The compressive strength of your sample is 428.014151 MPa\n"
     ]
    }
   ],
   "source": [
    "#Find the minimum force in the force column\n",
    "Min_load=forces['Force'].values.min()\n",
    "print (Min_load)\n",
    "\n",
    "#Input dimensions\n",
    "b=float(input('Input the width of the sample in millimeters:'))/1000\n",
    "print (b)\n",
    "h=float(input('Input the thickness of the sample in millimeters:'))/1000\n",
    "\n",
    "#Calculate compressive strength from force\n",
    "Area = b*h\n",
    "#Aruvi's area code: Area = int(Dimensions[\"Width\"]*Dimensions[\"Thickness\"])\n",
    "\n",
    "\n",
    "print (Area)\n",
    "Compressive_Strength=Min_load/(-1000000*Area)\n",
    "print (('The compressive strength of your sample is %f MPa') %Compressive_Strength)\n",
    "\n",
    "\n",
    "# Changing strain from percentage to mm/mm format\n",
    "dic_strain[\"DIC_strain\"] = dic_strain[\"DIC_strain\"]/100\n",
    "#Aruvi's code:mises[\"mises_strain\"] = mises[\"mises_strain\"]/100\n",
    "\n",
    "# Calculating Stress from force \n",
    "forces[\"stress\"] = forces[\"Force\"]/Area \n",
    "\n",
    "\n",
    "    "
   ]
  },
  {
   "cell_type": "code",
   "execution_count": 16,
   "metadata": {
    "collapsed": false
   },
   "outputs": [
    {
     "name": "stdout",
     "output_type": "stream",
     "text": [
      "       time        stress  stage    strain\n",
      "0  0.523438 -9.702323e+05    1.0 -0.000020\n",
      "1  1.023438 -9.853242e+05    2.0  0.000034\n",
      "2  1.523438 -1.015417e+06    3.0  0.000019\n",
      "3  2.023438 -1.020036e+06    4.0  0.000025\n",
      "4  2.523438 -9.928466e+05    5.0  0.000018\n",
      "5  3.023438 -9.988291e+05    6.0  0.000043\n",
      "6  3.523438 -9.948005e+05    7.0 -0.000001\n",
      "7  4.023438 -1.038618e+06    8.0 -0.000007\n",
      "8  4.523438 -1.012973e+06    9.0  0.000058\n",
      "9  5.023438 -1.027061e+06   10.0 -0.000002\n"
     ]
    }
   ],
   "source": [
    "# Assembling all the data to a data frame\n",
    "data = pd.concat(\n",
    "    [forces['Time'], forces['stress'], dic_strain['Stage'], dic_strain['DIC_strain']], \n",
    "    axis = 1, keys= ['time','stress','stage','strain'])\n",
    "\n",
    "print(data.head(10))\n",
    "\n"
   ]
  },
  {
   "cell_type": "code",
   "execution_count": null,
   "metadata": {
    "collapsed": false,
    "scrolled": true
   },
   "outputs": [],
   "source": [
    "\n",
    "\n",
    "#Calculating Stress from the output data \n",
    "    #Area = int(Dimensions[\"Width\"]*Dimensions[\"Thickness\"])\n",
    "\n",
    "# Changing strain from percentage to mm/mm format\n",
    "    #eystrain[\"ey_strain\"] = eystrain[\"ey_strain\"]/100\n",
    "    #mises[\"mises_strain\"] = mises[\"mises_strain\"]/100\n",
    "\n",
    "# Calculating Stress from force \n",
    "    #output[\"stress\"] = output[\"Force\"]/Area \n",
    "\n",
    "# Assembling all the data to a data frame\n",
    "    #data = pd.concat(\n",
    "        #[output['Time'], output['stress'], eystrain['Stage'], eystrain['ey_strain'], mises['mises_strain']], \n",
    "        #axis = 1, keys= ['time','stress','stage','strain','mises'])\n",
    "\n",
    "#print(data.head(10))\n",
    "\n",
    "\n"
   ]
  },
  {
   "cell_type": "code",
   "execution_count": null,
   "metadata": {
    "collapsed": true
   },
   "outputs": [],
   "source": []
  },
  {
   "cell_type": "code",
   "execution_count": null,
   "metadata": {
    "collapsed": false
   },
   "outputs": [],
   "source": []
  },
  {
   "cell_type": "code",
   "execution_count": null,
   "metadata": {
    "collapsed": true
   },
   "outputs": [],
   "source": []
  }
 ],
 "metadata": {
  "kernelspec": {
   "display_name": "Python 3",
   "language": "python",
   "name": "python3"
  },
  "language_info": {
   "codemirror_mode": {
    "name": "ipython",
    "version": 3
   },
   "file_extension": ".py",
   "mimetype": "text/x-python",
   "name": "python",
   "nbconvert_exporter": "python",
   "pygments_lexer": "ipython3",
   "version": "3.6.0"
  }
 },
 "nbformat": 4,
 "nbformat_minor": 2
}
