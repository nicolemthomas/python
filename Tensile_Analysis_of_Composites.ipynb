{
 "cells": [
  {
   "cell_type": "code",
   "execution_count": 3,
   "metadata": {
    "collapsed": true
   },
   "outputs": [],
   "source": [
    "# Getting the input data\n",
    "import os\n",
    "import pandas as pd\n",
    "import numpy as np\n",
    "\n",
    "import matplotlib.pyplot as plt \n",
    "from scipy import stats \n",
    "import shutil\n",
    "from io import StringIO\n",
    "import statsmodels.formula.api as smf\n"
   ]
  },
  {
   "cell_type": "markdown",
   "metadata": {},
   "source": [
    "# Setting the directory"
   ]
  },
  {
   "cell_type": "code",
   "execution_count": 4,
   "metadata": {
    "collapsed": false,
    "scrolled": true
   },
   "outputs": [
    {
     "ename": "FileNotFoundError",
     "evalue": "[Errno 2] No such file or directory: '/Users/nicolethomas/Google Drive/Grad School/IACMI Project/Python'",
     "output_type": "error",
     "traceback": [
      "\u001b[0;31m---------------------------------------------------------------------------\u001b[0m",
      "\u001b[0;31mFileNotFoundError\u001b[0m                         Traceback (most recent call last)",
      "\u001b[0;32m<ipython-input-4-33b7efbc2136>\u001b[0m in \u001b[0;36m<module>\u001b[0;34m()\u001b[0m\n\u001b[1;32m      1\u001b[0m \u001b[0;31m#Setting the directory\u001b[0m\u001b[0;34m\u001b[0m\u001b[0;34m\u001b[0m\u001b[0m\n\u001b[0;32m----> 2\u001b[0;31m \u001b[0mos\u001b[0m\u001b[0;34m.\u001b[0m\u001b[0mchdir\u001b[0m\u001b[0;34m(\u001b[0m\u001b[0;34m'/Users/nicolethomas/Google Drive/Grad School/IACMI Project/Python'\u001b[0m\u001b[0;34m)\u001b[0m\u001b[0;34m\u001b[0m\u001b[0m\n\u001b[0m\u001b[1;32m      3\u001b[0m \u001b[0;34m\u001b[0m\u001b[0m\n\u001b[1;32m      4\u001b[0m \u001b[0;31m#tensile = pd.read_csv(\"tensile.csv\",skiprows = 5,usecols=[2,4],names = ['Axial Extensometer','Axial Force']).dropna(axis = 0)\u001b[0m\u001b[0;34m\u001b[0m\u001b[0;34m\u001b[0m\u001b[0m\n\u001b[1;32m      5\u001b[0m \u001b[0;31m#tensile = tensile.apply(pd.to_numeric, errors ='coerce') #Change text format to numeric\u001b[0m\u001b[0;34m\u001b[0m\u001b[0;34m\u001b[0m\u001b[0m\n",
      "\u001b[0;31mFileNotFoundError\u001b[0m: [Errno 2] No such file or directory: '/Users/nicolethomas/Google Drive/Grad School/IACMI Project/Python'"
     ]
    }
   ],
   "source": [
    "#Setting the directory\n",
    "os.chdir('/Users/nicolethomas/Google Drive/Grad School/IACMI Project/Python')\n",
    "\n",
    "#tensile = pd.read_csv(\"tensile.csv\",skiprows = 5,usecols=[2,4],names = ['Axial Extensometer','Axial Force']).dropna(axis = 0) \n",
    "#tensile = tensile.apply(pd.to_numeric, errors ='coerce') #Change text format to numeric\n",
    "\n",
    "#Should add dimensions file here\n",
    "#Dimensions = pd.read_table(\"Dimensions.txt\")\n"
   ]
  },
  {
   "cell_type": "markdown",
   "metadata": {},
   "source": [
    "# Read file & skip lines with heading info"
   ]
  },
  {
   "cell_type": "code",
   "execution_count": 5,
   "metadata": {
    "collapsed": false
   },
   "outputs": [],
   "source": [
    "# ... (skipping irrelevant lines of setup code)\n",
    "\n",
    "def scrub_file(filename, separator=',', skip_header=0):\n",
    "    # initialize variables\n",
    "    line = \"\"\n",
    "    contents = \"\"\n",
    "    lineno = 0\n",
    "    numfields = 0\n",
    "    # what conversion are we performing? what does it return if the\n",
    "    # conversion fails?\n",
    "    def tofloat(x):\n",
    "        try:\n",
    "            return float(x)\n",
    "        except ValueError:\n",
    "            return np.nan\n",
    "    # this is going to handle reading a line from the file, and automatically\n",
    "    # do anything else we need, such as keep track of which line number\n",
    "    # we're on.\n",
    "    def readline():\n",
    "        nonlocal line, fstream\n",
    "        #global line\n",
    "        line = fstream.readline()\n",
    "        #lineno += 1\n",
    "        return line\n",
    "    # set the converter\n",
    "    convert = tofloat\n",
    "    # read the file\n",
    "    with open(filename) as fstream:\n",
    "        # pass header rows straight through\n",
    "        for _ in range(skip_header):\n",
    "            contents.append(readline(fstream))\n",
    "        # check how many fields fail conversion\n",
    "        while readline():\n",
    "            # process the line into fields (comma-separated by default)\n",
    "            fields = [convert(field) for field in line.split(separator)]\n",
    "            # how many of these fields are not NaN when an attempt is made\n",
    "            # to convert them to a float?\n",
    "            notnan = np.sum(~np.isnan(fields))\n",
    "            # **This is where all the work is done!** How do you know if a row is\n",
    "            # bad? Is it bad if all fields fail the conversion? All-but-one? All-but-two?\n",
    "            # You have to look at the source file and make this determination, then\n",
    "            # change this inequality. Only rows that pass the test are kept.\n",
    "            if notnan > 0:\n",
    "                contents += line\n",
    "            # update the numfields variable -- this tracks the row with the most\n",
    "            # number of fields.\n",
    "            numfields = max(notnan, numfields)\n",
    "    # now return the good lines (a.k.a. records) as a StringIO object. (StringIO\n",
    "    # allows you to read from a string object as if it were a file.)\n",
    "    return StringIO(contents)\n",
    "\n",
    "# now use the output from scrub_file in your earlier code, e.g.\n",
    "tensile = pd.read_csv(scrub_file(\"tensile.csv\"),\n",
    "    usecols=[2,4],\n",
    "    names = ['Axial Extensometer', 'Axial Force']).dropna(axis = 0)"
   ]
  },
  {
   "cell_type": "code",
   "execution_count": 6,
   "metadata": {
    "collapsed": false
   },
   "outputs": [
    {
     "name": "stdout",
     "output_type": "stream",
     "text": [
      "Input_size:\n",
      "(1168, 2)\n",
      "   Axial Extensometer  Axial Force\n",
      "1           -0.000164    681.18506\n",
      "2           -0.000153    680.99847\n",
      "3           -0.000233    679.72717\n",
      "4           -0.000193    679.57990\n",
      "5           -0.000287    680.89185\n"
     ]
    }
   ],
   "source": [
    "print('Input_size:')\n",
    "print(tensile.shape)\n",
    "print(tensile.head(5))"
   ]
  },
  {
   "cell_type": "code",
   "execution_count": null,
   "metadata": {
    "collapsed": false
   },
   "outputs": [],
   "source": [
    "#Input dimensions and calculate area\n",
    "b=float(input('Input the width of the sample in millimeters:'))/1000\n",
    "print (b)\n",
    "h=float(input('Input the thickness of the sample in millimeters:'))/1000\n",
    "Area = b*h\n",
    "print ((\"Cross-sectional area= %f m^2\") %Area)\n",
    "#Aruvi's area code: Area = int(Dimensions[\"Width\"]*Dimensions[\"Thickness\"])"
   ]
  },
  {
   "cell_type": "markdown",
   "metadata": {},
   "source": [
    "# Calculate max stress"
   ]
  },
  {
   "cell_type": "code",
   "execution_count": null,
   "metadata": {
    "collapsed": false,
    "scrolled": false
   },
   "outputs": [],
   "source": [
    "#Find the maximum force (in N) and calculste the max stress (in MPa)\n",
    "Max_load=tensile['Axial Force'].values.max()\n",
    "Stress = tensile[\"Axial Force\"]/(1000000*Area)\n",
    "\n",
    "#Read in strain data (already formatted in mm/mm)\n",
    "Strain = tensile[\"Axial Extensometer\"]\n",
    "\n",
    "#print(tensile[\"Stress\"].head(5))\n",
    "print (('The max load on your sample is %f N') %Max_load)\n",
    "print (('The tensile strength of your sample is %f MPa') %Stress.max()) \n",
    "\n",
    "print(Stress.head(5))\n",
    "print(Strain.head(5))"
   ]
  },
  {
   "cell_type": "code",
   "execution_count": null,
   "metadata": {
    "collapsed": false
   },
   "outputs": [],
   "source": [
    "#Find split point\n",
    "def Split_Stress(stress, strain):\n",
    "    \n",
    "    # Split_point is strain at whaich standard deviation(ymodulus)/mean(ymodulus) > 10 %\n",
    "    \n",
    "    ymodulus = []\n",
    "    \n",
    "    for i in range(0,len(strain)-10):\n",
    "        ymodulus.append((stress[i+10] - stress[i])/(strain[i+10] - strain[i]))\n",
    "        m = np.mean(ymodulus)\n",
    "        s = np.std(ymodulus)\n",
    "        p = (s/m)*100\n",
    "        if np.floor(p) > 10:\n",
    "            global Split_Point\n",
    "            Split_Point = strain[i]  \n",
    "            break\n",
    "\n",
    "    #Calculating Young's Modulus from raw data ey_strain\n",
    "\n",
    "    #Filtering out the linear potion of the ey_strain and stress data to find the slope\n",
    "\n",
    "    linear_strain = []\n",
    "    linear_stress = []\n",
    "    strain_deviation = []\n",
    "\n",
    "    for i in range(0, len(strain)):\n",
    "        if strain[i] < Split_Point:\n",
    "            linear_strain.append(strain[i])\n",
    "            linear_stress.append(stress[i])\n",
    "    \n",
    "    linear_strain = np.array(linear_strain)\n",
    "    linear_stress = np.array(linear_stress)\n",
    "\n",
    "    linear_strain = linear_strain[:,np.newaxis]\n",
    "           \n",
    "    E_trial,r,_,_ = np.linalg.lstsq(linear_strain,linear_stress)    # Finding Young's Modulus by forcing to zero intercept\n",
    "    \n",
    "    # Calculating mean strain deviation for the linear_stress, linear_strain data\n",
    "    \n",
    "    for i in range(0,len(linear_strain)):\n",
    "        strain_deviation.append((linear_strain[i] - linear_stress[i]/E_trial))\n",
    "        \n",
    "    mean_strain_deviation = np.mean(strain_deviation)\n",
    "    \n",
    "    # Filtering out the stress, strain data with strain deviation within bounds \n",
    "    # of mean strain deviation +/- Extensometer least count\n",
    "            \n",
    "    filtered_stress =[]\n",
    "    \n",
    "    for i in range(0,len(strain)):\n",
    "            if mean_strain_deviation-0.00005 < (strain[i]- (stress[i]/E_trial)) < mean_strain_deviation + 0.00005 :\n",
    "                filtered_stress.append(stress[i])\n",
    "    break_stress = np.max(filtered_stress)\n",
    "    return(break_stress)\n",
    "print('done')"
   ]
  },
  {
   "cell_type": "markdown",
   "metadata": {},
   "source": [
    "# Finding Mechanical Properties"
   ]
  },
  {
   "cell_type": "code",
   "execution_count": null,
   "metadata": {
    "collapsed": false
   },
   "outputs": [],
   "source": [
    "# Function to calculate Mechanical Properties\n",
    "\n",
    "def Mechanical_Properties(stress, strain, split_stress):\n",
    "\n",
    "    #Calculating Young's Modulus from raw data ey_strain\n",
    "\n",
    "    #Filtering out the linear potion of the ey_strain and stress data to find the slope\n",
    "\n",
    "    linear_strain = []\n",
    "    linear_stress = []\n",
    "\n",
    "    for i in range(0, len(stress)):\n",
    "        if stress[i] < split_stress:\n",
    "            linear_strain.append(strain[i])\n",
    "            linear_stress.append(stress[i])\n",
    "\n",
    "    # Filtering out the linear potion of the ey_strain and stress data to fit a polynomial\n",
    "\n",
    "    nonlinear_strain =[]\n",
    "    nonlinear_stress =[]\n",
    "\n",
    "    for i in range(0,len(stress)):\n",
    "        if stress[i] > split_stress:\n",
    "            nonlinear_strain.append(strain[i])\n",
    "            nonlinear_stress.append(stress[i])\n",
    "            \n",
    "    linear_strain = np.array(linear_strain)\n",
    "    linear_stress = np.array(linear_stress)\n",
    "\n",
    "    linear_strain = linear_strain[:,np.newaxis]\n",
    "\n",
    "    E,r,_,_ = np.linalg.lstsq(linear_strain,linear_stress)\n",
    "    \n",
    "\n",
    "    #Calculating R^2 value\n",
    "    K = len(linear_stress)\n",
    "    r_squared =  1 - r /(K * linear_stress.var())\n",
    "\n",
    "    #Calculating coefficient of variation\n",
    "    V = 100*np.sqrt(((1/r_squared)-1)/(K-2))\n",
    "    \n",
    "    \n",
    "    #Fitting a polynomial curve to the nonlinear portion of stress-strain curve\n",
    "    #p = np.polyfit(nonlinear_strain,nonlinear_stress,20)\n",
    "    #p1d = np.poly1d(p)\n",
    "    \n",
    "    \n",
    "    #Finding Ultimate Stress and Strain\n",
    "    ucs = np.amax(stress)\n",
    "    ucstrain = np.max(strain)\n",
    "    #oldcode  ucs = np.amax(stress)    ucstrain = np.amax(strain)\n",
    "\n",
    "\n",
    "    # To find yield stress from initially filtered data of Engineering strain vs Engineering stress\n",
    "    # This works by finding intersection point of the straight line and polynomial\n",
    "\n",
    "    x = np.linspace(0.002,0.05,100000)\n",
    "\n",
    "    for i in range(0,len(x)):\n",
    "        if (E*(x[i] -0.002)) > (p1d(x[i])):\n",
    "            yieldstrain = x[i]\n",
    "            yieldstress = p1d(x[i])\n",
    "            break \n",
    "\n",
    "    #Caculating ductility from filtered data ey_strain\n",
    "        \n",
    "    #ductility = (ucstrain - yieldstrain)*100\n",
    "    return(yieldstress,ucs,E,r_squared,K,V)\n",
    "\n",
    "print(\"done\")\n",
    "\n"
   ]
  },
  {
   "cell_type": "code",
   "execution_count": null,
   "metadata": {
    "collapsed": false
   },
   "outputs": [],
   "source": [
    "#Mechanical properties in different processing conditions\n",
    "\n",
    "uniaxial_split = Split_Stress(Stress,Strain)   # Passing uniaxial strain, uniaxial stress\n",
    "print(uniaxial_split)\n",
    "#mises_split = Split_Stress(Stress, Mises)      # Passing mises strain, uniaxial stress\n",
    "#print(mises_split)\n",
    "\n",
    "[y,ucs,E,R2,K,V] = Mechanical_Properties(Stress,Strain,uniaxial_split)\n",
    "\n",
    "\n",
    "#[y1,ucs1,E1,d1,R2_1,K1,V1] = Mechanical_Properties(Stress,Mises,mises_split)\n",
    "\n",
    "dir = 'Results'\n",
    "if not os.path.exists(dir):\n",
    "    os.makedirs(dir)\n",
    "else:\n",
    "    shutil.rmtree(dir)           #removes all the subdirectories!\n",
    "    os.makedirs(dir)\n",
    "\n",
    "os.chdir('Results')\n",
    "\n",
    "\n",
    "\n",
    "Data = pd.DataFrame({'Strain':Strain,'Stress':Stress},columns = ['Strain','Stress'])\n",
    "\n",
    "Results = pd.DataFrame({'Result Type':['Uniaxial'],'Yield Strength(Mpa)':[y],'Ultimate Strength(Mpa)':[ucs],\n",
    "                        'Youngs Modulus(Gpa)':[E/1000],'R^2':[R2],'Data Points':[K],'CoV(%)':[V]},\n",
    "                        columns = ['Result Type','Yield Strength(Mpa)','Ultimate Strength(Mpa)','Youngs Modulus(Gpa)',\n",
    "                        'R^2','Data Points','CoV(%)'])\n",
    "#Results = pd.DataFrame({'Result Type':['Uniaxial','Mises'],'Yield Strength(Mpa)':[y,y1],'Ultimate Strength(Mpa)':[ucs,ucs1],\n",
    "#                        'Youngs Modulus(Gpa)':[E/1000,E1/1000],'Ductility':[d,d1],'R^2':[R2,R2_1],'Data Points':[K,K1],'CoV(%)':[V,V1]},\n",
    "#                        columns = ['Result Type','Yield Strength(Mpa)','Ultimate Strength(Mpa)','Youngs Modulus(Gpa)',\n",
    "#                                   'Ductility','R^2','Data Points','CoV(%)'])\n",
    "\n",
    "\n",
    "\n",
    "Results.to_csv('Results.csv')\n",
    "Data.to_csv('Data.csv')\n",
    "\n",
    "print(Results)"
   ]
  },
  {
   "cell_type": "markdown",
   "metadata": {
    "collapsed": false,
    "scrolled": true
   },
   "source": [
    "# Plot "
   ]
  },
  {
   "cell_type": "code",
   "execution_count": null,
   "metadata": {
    "collapsed": false,
    "scrolled": false
   },
   "outputs": [],
   "source": [
    "#plt.cla()\n",
    "#plt.clf()\n",
    "plt.figure(figsize = (20,15))\n",
    "plt.rc('xtick', labelsize=20) \n",
    "plt.rc('ytick', labelsize=20)\n",
    "plt.plot(Strain,Stress,'--')\n",
    "    #plt.plot(b,a,'-')\n",
    "    #plt.plot(g,c,'-')\n",
    "plt.xlabel('Engineering Strain (mm/mm)', fontsize = 20)\n",
    "plt.ylabel('Engineering Stress (Mpa)', fontsize = 20)\n",
    "plt.axis([0.0005,0.0025,0,500])\n",
    "plt.savefig('Eng_Strain_Stress.tiff')\n",
    "plt.show()\n",
    "\n",
    "\n"
   ]
  },
  {
   "cell_type": "markdown",
   "metadata": {
    "collapsed": true
   },
   "source": [
    "# Linear regression"
   ]
  },
  {
   "cell_type": "code",
   "execution_count": null,
   "metadata": {
    "collapsed": false
   },
   "outputs": [],
   "source": [
    "# visualize the relationship between the features and the response using scatterplots\n",
    "#fig, axs = plt.subplots(1, 3, sharey=True)\n",
    "#tensile.plot(kind='scatter', x=Strain, y=Stress, ax=axs[0], figsize=(16, 8))\n",
    "#data.plot(kind='scatter', x='Radio', y='Sales', ax=axs[1])\n",
    "#data.plot(kind='scatter', x='Newspaper', y='Sales', ax=axs[2])\n",
    "\n",
    "# create a fitted model in one line\n",
    "#lm = smf.ols(formula='Stress ~ Strain', data=tensile).fit()\n",
    "\n",
    "# print the coefficients\n",
    "#lm.params\n",
    "\n",
    "#fig, ax = plt.subplots()\n",
    "#fit = np.polyfit(Strain, Stress, deg=1)\n",
    "#ax.plot(Strain, fit[0] * Strain + fit[1], color='red')\n",
    "#ax.scatter(Strain, Stress)\n",
    "\n",
    "#fig.show()\n",
    "\n",
    "#import seaborn as sns\n",
    "#sns.lmplot(x=Strain,y=Stress,data=tensile,fit_reg=True) \n",
    "# Set the data\n",
    "#data = pd.DataFrame(tensile)\n",
    "# Get the linear models\n",
    "#lm_original = np.polyfit(data.Strain, data.Stress, 1)\n",
    " \n",
    "# calculate the y values based on the co-efficients from the model\n",
    "#r_x, r_y = (i, x coefficient[0] + coefficient[1])\n",
    " \n",
    "# Put in to a data frame, to keep is all nice\n",
    "#lm_original_plot = pd.DataFrame({\n",
    "#Stress : r_x,\n",
    "#Strain : r_y})\n",
    "\n",
    "\n",
    "#np.linalg.lstsq(Strain, Stress, rcond=-1)"
   ]
  },
  {
   "cell_type": "code",
   "execution_count": null,
   "metadata": {
    "collapsed": false
   },
   "outputs": [],
   "source": []
  },
  {
   "cell_type": "code",
   "execution_count": null,
   "metadata": {
    "collapsed": false
   },
   "outputs": [],
   "source": []
  },
  {
   "cell_type": "code",
   "execution_count": null,
   "metadata": {
    "collapsed": true
   },
   "outputs": [],
   "source": []
  },
  {
   "cell_type": "code",
   "execution_count": null,
   "metadata": {
    "collapsed": true
   },
   "outputs": [],
   "source": []
  },
  {
   "cell_type": "code",
   "execution_count": null,
   "metadata": {
    "collapsed": true
   },
   "outputs": [],
   "source": []
  }
 ],
 "metadata": {
  "kernelspec": {
   "display_name": "Python 3",
   "language": "python",
   "name": "python3"
  },
  "language_info": {
   "codemirror_mode": {
    "name": "ipython",
    "version": 3
   },
   "file_extension": ".py",
   "mimetype": "text/x-python",
   "name": "python",
   "nbconvert_exporter": "python",
   "pygments_lexer": "ipython3",
   "version": "3.6.0"
  }
 },
 "nbformat": 4,
 "nbformat_minor": 2
}
