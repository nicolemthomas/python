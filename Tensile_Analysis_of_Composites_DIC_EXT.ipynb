{
 "cells": [
  {
   "cell_type": "code",
   "execution_count": 674,
   "metadata": {
    "collapsed": true
   },
   "outputs": [],
   "source": [
    "# Getting the input data\n",
    "import os\n",
    "import pandas as pd\n",
    "import numpy as np\n",
    "\n",
    "import matplotlib.pyplot as plt \n",
    "from scipy import stats \n",
    "import shutil\n",
    "from io import StringIO\n",
    "import statsmodels.formula.api as smf\n"
   ]
  },
  {
   "cell_type": "markdown",
   "metadata": {},
   "source": [
    "# Set the directory, import dimensions file, point to sample folder"
   ]
  },
  {
   "cell_type": "code",
   "execution_count": 675,
   "metadata": {
    "collapsed": false,
    "scrolled": true
   },
   "outputs": [
    {
     "name": "stdout",
     "output_type": "stream",
     "text": [
      "    Sample ID  w_avg (mm)  t_avg (mm)\n",
      "0          T2   25.433867    3.298190\n",
      "1          T5   25.408467    3.246543\n",
      "2          T7   25.052867    3.285067\n",
      "3          T8   25.476200    3.153410\n",
      "4         T10   25.391533    3.319357\n",
      "5         T11   25.374600    3.288453\n",
      "6         T14   25.383067    3.292263\n",
      "7         T16   25.383067    3.365923\n",
      "8         FT2   15.163800    3.346450\n",
      "9         FT5   15.096067    3.147907\n",
      "10        FT7   15.045267    3.238500\n",
      "11        FT8   15.096067    3.196167\n",
      "12        FT8   15.096067    3.196167\n",
      "13       FT10   15.036800    3.437467\n",
      "14       FT11   15.074053    3.363383\n",
      "15       FT14   15.113000    3.378623\n",
      "16       FT16   15.113000    3.412913\n"
     ]
    }
   ],
   "source": [
    "#Set the current sample ID. Must be identical to the file path name\n",
    "\n",
    "# File format should be /Dropbox (BeamTeam)/IACMI Team Folder/Test Data/November 2017 Tensile Tests 17081-01/Sample ID/\n",
    "# The beginning of the directory name will be specific to your specific machine. Mine is /Users/nicolethomas/\n",
    "\n",
    "# Be sure to name all your DIC csv export files \"DIC Strain\"\n",
    "\n",
    "os.chdir('/Users/nicolethomas/Dropbox (BeamTeam)/IACMI Team Folder/Test Data/November 2017 Tensile Tests 17081-01/')\n",
    "\n",
    "# Read in the dimensions file, in order of your Sample_ID list above\n",
    "dimensions = pd.read_excel(\"TPI Sample 17081-01 Dimensions.xlsx\", skiprows=3, \n",
    "    usecols=[0,5,10]) \n",
    "print(dimensions)\n",
    "\n",
    "# Set the name of your Sample IDs here for the analysis you want to perform\n",
    "Sample_ID = ['17081-01-T2','17081-01-T5','17081-01-T7','17081-01-T8',\n",
    "             '17081-01-T10','17081-01-T11','17081-01-T14','17081-01-T16',\n",
    "            '17081-01-FT2','17081-01-FT5','17081-01-FT7','17081-01-FT8','17081-01-FT8_2',\n",
    "            '17081-01-FT10','17081-01-FT11','17081-01-FT14','17081-01-FT16',]\n",
    "#Sample_column_index = [0,1,2,3,4,5,6,7,8,9,10,11,12,13,14,15,16]  # This identifies the index of the sample in the dimensions file\n",
    "\n",
    "for sample in Sample_ID:\n",
    "\n",
    "# Set index of the column in the dimensions file for the sample you're running here. Remember, column 1 = 0 index, etc...\n",
    "    Sample_column_index = 0\n",
    "\n",
    "#Setting the directory to the sample's folder\n",
    "    os.chdir(('/Users/nicolethomas/Dropbox (BeamTeam)/IACMI Team Folder/Test Data/November 2017 Tensile Tests 17081-01/%s') %sample)\n",
    "\n",
    "    \n",
    "    w = dimensions['w_avg (mm)'][Sample_column_index]/1000\n",
    "    #print ((\"Sample Width = %f m\") %w)\n",
    "\n",
    "    t = dimensions['t_avg (mm)'][Sample_column_index]/1000    \n",
    "    #print ((\"Sample Width = %f m\") %t)\n",
    "\n",
    "    Area = w*t\n",
    "    #print ((\"Sample XC Area = %f m\") %Area) "
   ]
  },
  {
   "cell_type": "markdown",
   "metadata": {},
   "source": [
    "# Read MTS Output file & skip lines with heading info"
   ]
  },
  {
   "cell_type": "code",
   "execution_count": 676,
   "metadata": {
    "collapsed": false
   },
   "outputs": [],
   "source": [
    "# Skip irrelevant lines of setup code imbedded in the data)\n",
    "\n",
    "def scrub_file(filename, separator=',', skip_header=0):\n",
    "    # initialize variables\n",
    "    line = \"\"\n",
    "    contents = \"\"\n",
    "    lineno = 0\n",
    "    numfields = 0\n",
    "    # what conversion are we performing? what does it return if the\n",
    "    # conversion fails?\n",
    "    def tofloat(x):\n",
    "        try:\n",
    "            return float(x)\n",
    "        except ValueError:\n",
    "            return np.nan\n",
    "    # this is going to handle reading a line from the file, and automatically\n",
    "    # do anything else we need, such as keep track of which line number\n",
    "    # we're on.\n",
    "    def readline():\n",
    "        nonlocal line, fstream\n",
    "        #global line\n",
    "        line = fstream.readline()\n",
    "        #lineno += 1\n",
    "        return line\n",
    "    # set the converter\n",
    "    convert = tofloat\n",
    "    # read the file\n",
    "    with open(filename) as fstream:\n",
    "        # pass header rows straight through\n",
    "        for _ in range(skip_header):\n",
    "            contents.append(readline(fstream))\n",
    "        # check how many fields fail conversion\n",
    "        while readline():\n",
    "            # process the line into fields (comma-separated by default)\n",
    "            fields = [convert(field) for field in line.split(separator)]\n",
    "            # how many of these fields are not NaN when an attempt is made\n",
    "            # to convert them to a float?\n",
    "            notnan = np.sum(~np.isnan(fields))\n",
    "            # **This is where all the work is done!** How do you know if a row is\n",
    "            # bad? Is it bad if all fields fail the conversion? All-but-one? All-but-two?\n",
    "            # You have to look at the source file and make this determination, then\n",
    "            # change this inequality. Only rows that pass the test are kept.\n",
    "            if notnan > 0:\n",
    "                contents += line\n",
    "            # update the numfields variable -- this tracks the row with the most\n",
    "            # number of fields.\n",
    "            numfields = max(notnan, numfields)\n",
    "    # now return the good lines (a.k.a. records) as a StringIO object. (StringIO\n",
    "    # allows you to read from a string object as if it were a file.)\n",
    "    return StringIO(contents)\n",
    "\n",
    "# This is where the MTS file is read in\n",
    "tensile = pd.read_csv(\"DAQ- Time, … - (Timed).csv\", skiprows=3, \n",
    "    usecols=[0,1,6], \n",
    "    names = ['Time','Axial Force','Axial Extensometer']).dropna(axis = 0)"
   ]
  },
  {
   "cell_type": "code",
   "execution_count": 677,
   "metadata": {
    "collapsed": false
   },
   "outputs": [],
   "source": [
    "# This is the code you'd use if you needed to process the crap out of the MTS file.\n",
    "# It is scrubbed using the scrub_file function above \n",
    "# in case MTS did some silly shit and added random header rows in the middle of the data. \n",
    "\n",
    "# BUT for some reason the scrub_file function isn't working for this analysis and deletes all the data. Stupid.\n",
    "\n",
    "# tensile = pd.read_csv(scrub_file(\"DAQ- Time, … - (Timed).csv\"), skiprows=3, \n",
    "#     usecols=[0,1,6], \n",
    "#     names = ['Time','Axial Force','Axial Extensometer']).dropna(axis = 0)"
   ]
  },
  {
   "cell_type": "code",
   "execution_count": 678,
   "metadata": {
    "collapsed": false,
    "scrolled": true
   },
   "outputs": [],
   "source": [
    "#Check that the MTS input parameters are correct\n",
    "\n",
    "#     print('Input_size:')\n",
    "#     print(tensile.shape)\n",
    "#     print(tensile.head(5))"
   ]
  },
  {
   "cell_type": "markdown",
   "metadata": {},
   "source": [
    "# Call the DIC Data"
   ]
  },
  {
   "cell_type": "code",
   "execution_count": 679,
   "metadata": {
    "collapsed": false
   },
   "outputs": [],
   "source": [
    "#Setting the directory to the sample's Transverse DIC Data File\n",
    "\n",
    "DIC_Data = pd.read_csv(\"DIC Strain.csv\", skiprows = 2,\n",
    "     usecols=[0,9], \n",
    "     names = ['Index','exx - engr.']).dropna(axis = 0)\n",
    "\n",
    "#     print(DIC_Data.shape)\n",
    "#     print(DIC_Data.head())"
   ]
  },
  {
   "cell_type": "code",
   "execution_count": 680,
   "metadata": {
    "collapsed": false,
    "scrolled": true
   },
   "outputs": [
    {
     "name": "stdout",
     "output_type": "stream",
     "text": [
      "Max DIC Error is 4.17051e-05\n"
     ]
    },
    {
     "data": {
      "image/png": "[encoded data removed]",
      "text/plain": [
       "<matplotlib.figure.Figure at 0x11dd8d390>"
      ]
     },
     "metadata": {},
     "output_type": "display_data"
    }
   ],
   "source": [
    "#Separate the static frames for the error analysis\n",
    "DIC_strain_error = []\n",
    "DIC_error_index = []\n",
    "new_strain = []\n",
    "new_index =[]\n",
    "for strain, index in zip(DIC_Data['exx - engr.'], DIC_Data['Index']):\n",
    "    if strain < 0.0001:\n",
    "        DIC_strain_error.append(strain)\n",
    "        DIC_error_index.append(index)\n",
    "    else: \n",
    "        new_strain.append(strain)\n",
    "        new_index.append(index)\n",
    "\n",
    "#print(new_strain)\n",
    "\n",
    "# print('DIC Error:')\n",
    "# print(DIC_strain_error)\n",
    "# print('Index:')\n",
    "# print(DIC_error_index)\n",
    "Max_error = max(DIC_strain_error)\n",
    "print(('Max DIC Error is %s') %Max_error)\n",
    "\n",
    "num_still_shots = len(DIC_strain_error)\n",
    "\n",
    "plt.figure(figsize = (20,15))\n",
    "plt.rc('xtick', labelsize=20) \n",
    "plt.rc('ytick', labelsize=20)\n",
    "plt.plot(DIC_error_index, DIC_strain_error,'--')\n",
    "    #plt.plot(b,a,'-')\n",
    "    #plt.plot(g,c,'-')\n",
    "plt.xlabel('Index', fontsize = 20)\n",
    "plt.ylabel('DIC Strain Error', fontsize = 20)\n",
    "plt.axis([1,num_still_shots,-0.0001,0.0001])\n",
    "plt.savefig('DIC_Strain_Error.tiff')\n",
    "plt.show()"
   ]
  },
  {
   "cell_type": "code",
   "execution_count": 681,
   "metadata": {
    "collapsed": true
   },
   "outputs": [],
   "source": [
    "# # Calculate DIC strain for ISO 527\n",
    "# iso_527_DIC_strain = []\n",
    "# #Force_in_strain_range = []\n",
    "# for ext, force in zip(tensile['Axial Extensometer'], tensile['Axial Force']):\n",
    "#     if ext > 0.001 and ext < 0.003:\n",
    "#         iso_527_strain.append(ext)\n",
    "#         Force_in_strain_range.append(force)"
   ]
  },
  {
   "cell_type": "code",
   "execution_count": 682,
   "metadata": {
    "collapsed": false
   },
   "outputs": [],
   "source": [
    "#"
   ]
  },
  {
   "cell_type": "markdown",
   "metadata": {},
   "source": [
    "# Call average sample dimensions from excel file"
   ]
  },
  {
   "cell_type": "code",
   "execution_count": 683,
   "metadata": {
    "collapsed": true
   },
   "outputs": [],
   "source": [
    "# This block is a manual dimensions input if the dimensions file doesn't work\n",
    "## Input dimensions and calculate area\n",
    "# b=float(input('Input the width of the sample in millimeters:'))/1000\n",
    "# print (b)\n",
    "# h=float(input('Input the thickness of the sample in millimeters:'))/1000\n",
    "# Area = b*h\n",
    "# print ((\"Cross-sectional area= %f m^2\") %Area)"
   ]
  },
  {
   "cell_type": "code",
   "execution_count": 684,
   "metadata": {
    "collapsed": false,
    "scrolled": false
   },
   "outputs": [],
   "source": [
    "#Moved this stuff to the top. Delete if it's not helpful anymore\n",
    "#     #Set the directory where the dimension data is stored\n",
    "#     os.chdir('/Users/nicolethomas/Dropbox (BeamTeam)/IACMI Team Folder/Test Data/November 2017 Tensile Tests 17081-01')\n",
    "\n",
    "#     dimensions = pd.read_excel(\"TPI Sample 17081-01 Dimensions.xlsx\", skiprows=3, \n",
    "#         usecols=[0,5,10]) \n",
    "#     print(dimensions)\n",
    "\n",
    "#     #Sample_column_index is initialized a the top\n",
    "#     print ((\"Sample_column_index = %f\") %Sample_column_index)\n",
    "\n",
    "#     w = dimensions['w_avg (mm)'][Sample_column_index]/1000\n",
    "#     print ((\"Sample Width = %f m\") %w)\n",
    "\n",
    "#     t = dimensions['t_avg (mm)'][Sample_column_index]/1000    # NEED TO FIX DIMENSIONS HERE\n",
    "#     print ((\"Sample Width = %f m\") %t)\n",
    "\n",
    "#     Area = w*t\n",
    "#     print ((\"Sample XC Area = %f m\") %Area) "
   ]
  },
  {
   "cell_type": "markdown",
   "metadata": {},
   "source": [
    "\n",
    "# Calculate max stress"
   ]
  },
  {
   "cell_type": "code",
   "execution_count": 685,
   "metadata": {
    "collapsed": false,
    "scrolled": false
   },
   "outputs": [
    {
     "name": "stdout",
     "output_type": "stream",
     "text": [
      "The max load on your sample is 48.411641 kN\n",
      "The tensile strength of your sample is 577.114173 MPa\n",
      "0    0.668922\n",
      "1    1.117862\n",
      "2    1.632637\n",
      "3    2.115925\n",
      "4    2.638157\n",
      "Name: Axial Force, dtype: float64\n",
      "0   -0.000027\n",
      "1   -0.000065\n",
      "2    0.000114\n",
      "3    0.000117\n",
      "4    0.000125\n",
      "Name: Axial Extensometer, dtype: float64\n"
     ]
    }
   ],
   "source": [
    "#Find the maximum force (in kN) and calculste the max stress (in MPa)\n",
    "Max_load = tensile['Axial Force'].values.max()\n",
    "Stress = tensile[\"Axial Force\"]/(1000*Area)\n",
    "Failure_Stress = Stress.max()\n",
    "\n",
    "#Read in strain data (already formatted in mm/mm)\n",
    "Strain = tensile[\"Axial Extensometer\"]\n",
    "\n",
    "#print(tensile[\"Stress\"].head(5))\n",
    "print (('The max load on your sample is %f kN') %Max_load)\n",
    "print (('The tensile strength of your sample is %f MPa') %Stress.max()) \n",
    "\n",
    "print(Stress.head(5))\n",
    "print(Strain.head(5))"
   ]
  },
  {
   "cell_type": "markdown",
   "metadata": {},
   "source": [
    "# Separate the data in the 0.001 to 0.003 strain range for ISO 527"
   ]
  },
  {
   "cell_type": "code",
   "execution_count": 686,
   "metadata": {
    "collapsed": false
   },
   "outputs": [
    {
     "name": "stdout",
     "output_type": "stream",
     "text": [
      "r-squared: 0.98024401596\n"
     ]
    },
    {
     "data": {
      "image/png": "[encoded data removed]",
      "text/plain": [
       "<matplotlib.figure.Figure at 0x11eda08d0>"
      ]
     },
     "metadata": {},
     "output_type": "display_data"
    },
    {
     "name": "stdout",
     "output_type": "stream",
     "text": [
      "The Modulus IAW ISO 527 is 21.394049 GPa\n"
     ]
    }
   ],
   "source": [
    "ISO_527_strain = []\n",
    "Force_in_strain_range = []\n",
    "\n",
    "for ext, force in zip(tensile['Axial Extensometer'], tensile['Axial Force']):\n",
    "    if ext > 0.001 and ext < 0.003:\n",
    "        ISO_527_strain.append(ext)\n",
    "        Force_in_strain_range.append(force)\n",
    "ISO_527_stress = np.array(Force_in_strain_range/(1000*Area))\n",
    "ISO_527_strain = np.array(ISO_527_strain)\n",
    "\n",
    "slope, intercept, r_value, p_value, std_err = stats.linregress(ISO_527_strain, ISO_527_stress)\n",
    "print(\"r-squared:\", r_value**2)\n",
    "\n",
    "#plt.plot(ISO_527_strain, ISO_527_stress, 'o', label='original data')\n",
    "#plt.plot(x, intercept + slope*x, 'r', label='fitted line')\n",
    "# plt.legend()\n",
    "# plt.show()\n",
    "\n",
    "plt.figure(figsize = (20,15))\n",
    "plt.rc('xtick', labelsize=20) \n",
    "plt.rc('ytick', labelsize=20)\n",
    "plt.plot(ISO_527_strain, ISO_527_stress,'--',label='original data')\n",
    "plt.plot(ISO_527_strain, intercept + slope*ISO_527_strain, 'r', label='fitted line')\n",
    "plt.xlabel('Strain (units)', fontsize = 20)\n",
    "plt.ylabel('Stress (units)', fontsize = 20)\n",
    "plt.title(('Stress-Strain Curve for %s') %sample)\n",
    "plt.legend()\n",
    "plt.savefig('ISO_527_Stress_Strain_Curve.tiff')\n",
    "plt.show()\n",
    "\n",
    "ISO_527_modulus = slope/1000\n",
    "print((\"The Modulus IAW ISO 527 is %f GPa\") %ISO_527_modulus)"
   ]
  },
  {
   "cell_type": "markdown",
   "metadata": {},
   "source": [
    "# RESULTS"
   ]
  },
  {
   "cell_type": "code",
   "execution_count": 687,
   "metadata": {
    "collapsed": false
   },
   "outputs": [
    {
     "ename": "SyntaxError",
     "evalue": "'return' outside function (<ipython-input-687-c75d418f4e7d>, line 19)",
     "output_type": "error",
     "traceback": [
      "\u001b[0;36m  File \u001b[0;32m\"<ipython-input-687-c75d418f4e7d>\"\u001b[0;36m, line \u001b[0;32m19\u001b[0m\n\u001b[0;31m    return Results.to_csv('Results.csv')\u001b[0m\n\u001b[0m                                        ^\u001b[0m\n\u001b[0;31mSyntaxError\u001b[0m\u001b[0;31m:\u001b[0m 'return' outside function\n"
     ]
    }
   ],
   "source": [
    "#All_Results = pd.DataFrame[]\n",
    "Sample_Results = pd.DataFrame({'Sample ID': [sample],'Failure Stress': [Failure_Stress], 'Modulus': [ISO_527_modulus], 'Modulus R Squared Value':r_value**2},columns = ['Sample ID','Failure Stress','Modulus', 'Modulus R Squared Value'])\n",
    "Results.append(Sample_Results)\n",
    "\n",
    "#Pipedream_DIC_Data = pd.DataFrame({'DIC Strain': Strain ,'Stress':Stress},columns = ['Strain','Stress'])\n",
    "#The key here is to time the index of the DIC Data to the time of the MTS Data\n",
    "\n",
    "# Results = pd.DataFrame({'Result Type':['Uniaxial'],'Ultimate Tensile Strength(Mpa)':[y],'Ultimate Strength(Mpa)':[ucs],\n",
    "#                         'Youngs Modulus(Gpa)':[E/1000],'R^2':[R2],'Data Points':[K],'CoV(%)':[V]},\n",
    "#                         columns = ['Result Type','Yield Strength(Mpa)','Ultimate Strength(Mpa)','Youngs Modulus(Gpa)',\n",
    "#                         'R^2','Data Points','CoV(%)'])\n",
    "# #Results = pd.DataFrame({'Result Type':['Uniaxial','Mises'],'Yield Strength(Mpa)':[y,y1],'Ultimate Strength(Mpa)':[ucs,ucs1],\n",
    "# #                        'Youngs Modulus(Gpa)':[E/1000,E1/1000],'Ductility':[d,d1],'R^2':[R2,R2_1],'Data Points':[K,K1],'CoV(%)':[V,V1]},\n",
    "# #                        columns = ['Result Type','Yield Strength(Mpa)','Ultimate Strength(Mpa)','Youngs Modulus(Gpa)',\n",
    "# #                                   'Ductility','R^2','Data Points','CoV(%)'])\n",
    "\n",
    "#ISO_527_Mechanical_Properties.to_csv(ISO_527_Mechanical_Properties.csv)\n",
    "\n",
    "return Results.to_csv('Results.csv')\n",
    "# Data.to_csv('Data.csv')\n",
    "\n",
    "print(Results)"
   ]
  },
  {
   "cell_type": "markdown",
   "metadata": {},
   "source": [
    "# Anything below this point is only for my reference"
   ]
  },
  {
   "cell_type": "code",
   "execution_count": null,
   "metadata": {
    "collapsed": false
   },
   "outputs": [],
   "source": [
    "# # Find Modulus as defined by ISO 527\n",
    "\n",
    "# modulus = []\n",
    "    \n",
    "# for i in range(0,len(ISO_527_stress)-10):\n",
    "#     modulus.append((ISO_527_stress[i+10] - ISO_527_stress[i])/(ISO_527_stress[i+10] - ISO_527_stress[i]))\n",
    "#     m = np.mean(modulus)\n",
    "#     s = np.std(modulus)\n",
    "#     p = (s/m)*100\n",
    "#     if np.floor(p) > 10:\n",
    "#             global Split_Point\n",
    "#             Split_Point = strain[i]  \n",
    "#             break\n",
    "\n",
    "# print(modulus)"
   ]
  },
  {
   "cell_type": "code",
   "execution_count": null,
   "metadata": {
    "collapsed": false
   },
   "outputs": [],
   "source": [
    "# #Find split point\n",
    "# def Split_Stress(stress, strain):\n",
    "    \n",
    "#     # Split_point is strain at whaich standard deviation(ymodulus)/mean(ymodulus) > 10 %\n",
    "    \n",
    "#     ymodulus = []\n",
    "    \n",
    "#     for i in range(0,len(strain)-10):\n",
    "#         ymodulus.append((stress[i+10] - stress[i])/(strain[i+10] - strain[i]))\n",
    "#         m = np.mean(ymodulus)\n",
    "#         s = np.std(ymodulus)\n",
    "#         p = (s/m)*100\n",
    "#         if np.floor(p) > 10:\n",
    "#             global Split_Point\n",
    "#             Split_Point = strain[i]  \n",
    "#             break\n",
    "\n",
    "#     #Calculating Young's Modulus from raw data ey_strain\n",
    "\n",
    "#     #Filtering out the linear potion of the ey_strain and stress data to find the slope\n",
    "\n",
    "#     linear_strain = []\n",
    "#     linear_stress = []\n",
    "#     strain_deviation = []\n",
    "\n",
    "#     for i in range(0, len(strain)):\n",
    "#         if strain[i] < Split_Point:\n",
    "#             linear_strain.append(strain[i])\n",
    "#             linear_stress.append(stress[i])\n",
    "    \n",
    "#     linear_strain = np.array(linear_strain)\n",
    "#     linear_stress = np.array(linear_stress)\n",
    "\n",
    "#     linear_strain = linear_strain[:,np.newaxis]\n",
    "           \n",
    "#     E_trial,r,_,_ = np.linalg.lstsq(linear_strain,linear_stress)    # Finding Young's Modulus by forcing to zero intercept\n",
    "    \n",
    "#     # Calculating mean strain deviation for the linear_stress, linear_strain data\n",
    "    \n",
    "#     for i in range(0,len(linear_strain)):\n",
    "#         strain_deviation.append((linear_strain[i] - linear_stress[i]/E_trial))\n",
    "        \n",
    "#     mean_strain_deviation = np.mean(strain_deviation)\n",
    "    \n",
    "#     # Filtering out the stress, strain data with strain deviation within bounds \n",
    "#     # of mean strain deviation +/- Extensometer least count\n",
    "            \n",
    "#     filtered_stress =[]\n",
    "    \n",
    "#     for i in range(0,len(strain)):\n",
    "#             if mean_strain_deviation-0.00005 < (strain[i]- (stress[i]/E_trial)) < mean_strain_deviation + 0.00005 :\n",
    "#                 filtered_stress.append(stress[i])\n",
    "#     break_stress = np.max(filtered_stress)\n",
    "#     return(break_stress)\n",
    "# print('done')"
   ]
  },
  {
   "cell_type": "markdown",
   "metadata": {},
   "source": [
    "# Finding Mechanical Properties"
   ]
  },
  {
   "cell_type": "code",
   "execution_count": null,
   "metadata": {
    "collapsed": false
   },
   "outputs": [],
   "source": [
    "# # Function to calculate Mechanical Properties\n",
    "\n",
    "# def Mechanical_Properties(stress, strain, split_stress):\n",
    "\n",
    "#     #Calculating Young's Modulus from raw data ey_strain\n",
    "\n",
    "#     #Filtering out the linear potion of the ey_strain and stress data to find the slope\n",
    "\n",
    "#     linear_strain = []\n",
    "#     linear_stress = []\n",
    "\n",
    "#     for i in range(0, len(stress)):\n",
    "#         if stress[i] < split_stress:\n",
    "#             linear_strain.append(strain[i])\n",
    "#             linear_stress.append(stress[i])\n",
    "\n",
    "#     # Filtering out the linear potion of the ey_strain and stress data to fit a polynomial\n",
    "\n",
    "#     nonlinear_strain =[]\n",
    "#     nonlinear_stress =[]\n",
    "\n",
    "#     for i in range(0,len(stress)):\n",
    "#         if stress[i] > split_stress:\n",
    "#             nonlinear_strain.append(strain[i])\n",
    "#             nonlinear_stress.append(stress[i])\n",
    "            \n",
    "#     linear_strain = np.array(linear_strain)\n",
    "#     linear_stress = np.array(linear_stress)\n",
    "\n",
    "#     linear_strain = linear_strain[:,np.newaxis]\n",
    "\n",
    "#     E,r,_,_ = np.linalg.lstsq(linear_strain,linear_stress)\n",
    "    \n",
    "\n",
    "#     #Calculating R^2 value\n",
    "#     K = len(linear_stress)\n",
    "#     r_squared =  1 - r /(K * linear_stress.var())\n",
    "\n",
    "#     #Calculating coefficient of variation\n",
    "#     V = 100*np.sqrt(((1/r_squared)-1)/(K-2))\n",
    "    \n",
    "    \n",
    "#     #Fitting a polynomial curve to the nonlinear portion of stress-strain curve\n",
    "#     #p = np.polyfit(nonlinear_strain,nonlinear_stress,20)\n",
    "#     #p1d = np.poly1d(p)\n",
    "    \n",
    "    \n",
    "#     #Finding Ultimate Stress and Strain\n",
    "#     ucs = np.amax(stress)\n",
    "#     ucstrain = np.max(strain)\n",
    "#     #oldcode  ucs = np.amax(stress)    ucstrain = np.amax(strain)\n",
    "\n",
    "\n",
    "#     # To find yield stress from initially filtered data of Engineering strain vs Engineering stress\n",
    "#     # This works by finding intersection point of the straight line and polynomial\n",
    "\n",
    "#     x = np.linspace(0.002,0.05,100000)\n",
    "\n",
    "#     for i in range(0,len(x)):\n",
    "#         if (E*(x[i] -0.002)) > (p1d(x[i])):\n",
    "#             yieldstrain = x[i]\n",
    "#             yieldstress = p1d(x[i])\n",
    "#             break \n",
    "\n",
    "#     #Caculating ductility from filtered data ey_strain\n",
    "        \n",
    "#     #ductility = (ucstrain - yieldstrain)*100\n",
    "#     return(yieldstress,ucs,E,r_squared,K,V)\n",
    "\n",
    "# print(\"done\")\n",
    "\n"
   ]
  },
  {
   "cell_type": "code",
   "execution_count": null,
   "metadata": {
    "collapsed": false,
    "scrolled": false
   },
   "outputs": [],
   "source": [
    "# #Mechanical properties in different processing conditions\n",
    "\n",
    "# uniaxial_split = Split_Stress(Stress,Strain)   # Passing uniaxial strain, uniaxial stress\n",
    "# print(uniaxial_split)\n",
    "# #mises_split = Split_Stress(Stress, Mises)      # Passing mises strain, uniaxial stress\n",
    "# #print(mises_split)\n",
    "\n",
    "# [y,ucs,E,R2,K,V] = Mechanical_Properties(Stress,Strain,uniaxial_split)\n",
    "\n",
    "\n",
    "# #[y1,ucs1,E1,d1,R2_1,K1,V1] = Mechanical_Properties(Stress,Mises,mises_split)\n",
    "\n",
    "# dir = 'Results'\n",
    "# if not os.path.exists(dir):\n",
    "#     os.makedirs(dir)\n",
    "# else:\n",
    "#     shutil.rmtree(dir)           #removes all the subdirectories!\n",
    "#     os.makedirs(dir)\n",
    "\n",
    "# os.chdir('Results')\n",
    "\n",
    "\n",
    "\n",
    "# Data = pd.DataFrame({'Strain':Strain,'Stress':Stress},columns = ['Strain','Stress'])\n",
    "\n",
    "# Results = pd.DataFrame({'Result Type':['Uniaxial'],'Yield Strength(Mpa)':[y],'Ultimate Strength(Mpa)':[ucs],\n",
    "#                         'Youngs Modulus(Gpa)':[E/1000],'R^2':[R2],'Data Points':[K],'CoV(%)':[V]},\n",
    "#                         columns = ['Result Type','Yield Strength(Mpa)','Ultimate Strength(Mpa)','Youngs Modulus(Gpa)',\n",
    "#                         'R^2','Data Points','CoV(%)'])\n",
    "# #Results = pd.DataFrame({'Result Type':['Uniaxial','Mises'],'Yield Strength(Mpa)':[y,y1],'Ultimate Strength(Mpa)':[ucs,ucs1],\n",
    "# #                        'Youngs Modulus(Gpa)':[E/1000,E1/1000],'Ductility':[d,d1],'R^2':[R2,R2_1],'Data Points':[K,K1],'CoV(%)':[V,V1]},\n",
    "# #                        columns = ['Result Type','Yield Strength(Mpa)','Ultimate Strength(Mpa)','Youngs Modulus(Gpa)',\n",
    "# #                                   'Ductility','R^2','Data Points','CoV(%)'])\n",
    "\n",
    "\n",
    "\n",
    "# Results.to_csv('Results.csv')\n",
    "# Data.to_csv('Data.csv')\n",
    "\n",
    "# print(Results)"
   ]
  },
  {
   "cell_type": "markdown",
   "metadata": {
    "scrolled": true
   },
   "source": [
    "# Plot "
   ]
  },
  {
   "cell_type": "code",
   "execution_count": null,
   "metadata": {
    "collapsed": false,
    "scrolled": false
   },
   "outputs": [],
   "source": [
    "# #plt.cla()\n",
    "# #plt.clf()\n",
    "# plt.figure(figsize = (20,15))\n",
    "# plt.rc('xtick', labelsize=20) \n",
    "# plt.rc('ytick', labelsize=20)\n",
    "# plt.plot(Strain,Stress,'--')\n",
    "#     #plt.plot(b,a,'-')\n",
    "#     #plt.plot(g,c,'-')\n",
    "# plt.xlabel('Engineering Strain (mm/mm)', fontsize = 20)\n",
    "# plt.ylabel('Engineering Stress (Mpa)', fontsize = 20)\n",
    "# plt.axis([0.0005,0.0025,0,500])\n",
    "# plt.savefig('Eng_Strain_Stress.tiff')\n",
    "# plt.show()\n",
    "\n",
    "\n"
   ]
  },
  {
   "cell_type": "markdown",
   "metadata": {
    "collapsed": true
   },
   "source": [
    "# Linear regression"
   ]
  },
  {
   "cell_type": "code",
   "execution_count": null,
   "metadata": {
    "collapsed": true
   },
   "outputs": [],
   "source": [
    "# visualize the relationship between the features and the response using scatterplots\n",
    "#fig, axs = plt.subplots(1, 3, sharey=True)\n",
    "#tensile.plot(kind='scatter', x=Strain, y=Stress, ax=axs[0], figsize=(16, 8))\n",
    "#data.plot(kind='scatter', x='Radio', y='Sales', ax=axs[1])\n",
    "#data.plot(kind='scatter', x='Newspaper', y='Sales', ax=axs[2])\n",
    "\n",
    "# create a fitted model in one line\n",
    "#lm = smf.ols(formula='Stress ~ Strain', data=tensile).fit()\n",
    "\n",
    "# print the coefficients\n",
    "#lm.params\n",
    "\n",
    "#fig, ax = plt.subplots()\n",
    "#fit = np.polyfit(Strain, Stress, deg=1)\n",
    "#ax.plot(Strain, fit[0] * Strain + fit[1], color='red')\n",
    "#ax.scatter(Strain, Stress)\n",
    "\n",
    "#fig.show()\n",
    "\n",
    "#import seaborn as sns\n",
    "#sns.lmplot(x=Strain,y=Stress,data=tensile,fit_reg=True) \n",
    "# Set the data\n",
    "#data = pd.DataFrame(tensile)\n",
    "# Get the linear models\n",
    "#lm_original = np.polyfit(data.Strain, data.Stress, 1)\n",
    " \n",
    "# calculate the y values based on the co-efficients from the model\n",
    "#r_x, r_y = (i, x coefficient[0] + coefficient[1])\n",
    " \n",
    "# Put in to a data frame, to keep is all nice\n",
    "#lm_original_plot = pd.DataFrame({\n",
    "#Stress : r_x,\n",
    "#Strain : r_y})\n",
    "\n",
    "\n",
    "#np.linalg.lstsq(Strain, Stress, rcond=-1)"
   ]
  },
  {
   "cell_type": "code",
   "execution_count": null,
   "metadata": {
    "collapsed": true
   },
   "outputs": [],
   "source": []
  },
  {
   "cell_type": "code",
   "execution_count": null,
   "metadata": {
    "collapsed": true
   },
   "outputs": [],
   "source": []
  },
  {
   "cell_type": "code",
   "execution_count": null,
   "metadata": {
    "collapsed": true
   },
   "outputs": [],
   "source": []
  },
  {
   "cell_type": "code",
   "execution_count": null,
   "metadata": {
    "collapsed": true
   },
   "outputs": [],
   "source": []
  },
  {
   "cell_type": "code",
   "execution_count": null,
   "metadata": {
    "collapsed": true
   },
   "outputs": [],
   "source": []
  },
  {
   "cell_type": "code",
   "execution_count": null,
   "metadata": {
    "collapsed": true
   },
   "outputs": [],
   "source": []
  }
 ],
 "metadata": {
  "kernelspec": {
   "display_name": "Python 3",
   "language": "python",
   "name": "python3"
  },
  "language_info": {
   "codemirror_mode": {
    "name": "ipython",
    "version": 3
   },
   "file_extension": ".py",
   "mimetype": "text/x-python",
   "name": "python",
   "nbconvert_exporter": "python",
   "pygments_lexer": "ipython3",
   "version": "3.6.0"
  }
 },
 "nbformat": 4,
 "nbformat_minor": 2
}
