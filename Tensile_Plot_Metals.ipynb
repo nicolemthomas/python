{
 "cells": [
  {
   "cell_type": "code",
   "execution_count": 3,
   "metadata": {
    "collapsed": false
   },
   "outputs": [],
   "source": [
    "# Getting the input data\n",
    "import os\n",
    "import pandas as pd\n",
    "import numpy as np\n",
    "import matplotlib.pyplot as plt \n",
    "from scipy import stats \n",
    "import shutil\n"
   ]
  },
  {
   "cell_type": "code",
   "execution_count": 4,
   "metadata": {
    "collapsed": false
   },
   "outputs": [
    {
     "data": {
      "text/plain": [
       "['.DS_Store',\n",
       " '.ipynb_checkpoints',\n",
       " 'Compression_Analysis_of_Composites.ipynb',\n",
       " 'Eng_Strain_Stress.tiff',\n",
       " 'ey_strain.csv',\n",
       " 'ey_strain_plotted.xlsx',\n",
       " 'ey_strain_plotted_with_Stress.xlsx',\n",
       " 'force_strain_plotted.xlsx',\n",
       " 'Grocery list test.rtf',\n",
       " 'Grocery List.ipynb',\n",
       " 'HX1_no1_02_analysis1.csv',\n",
       " 'specimen.csv',\n",
       " 'Tensile with extra heading.xlsx',\n",
       " 'Tensile.csv',\n",
       " 'Tensile.dat',\n",
       " 'Tensile_Analysis_of_Composites.ipynb',\n",
       " 'Tensile_analysis_orange.ows',\n",
       " 'Tensile_modified.xlsx',\n",
       " 'Tensile_no_headings.csv',\n",
       " 'Tensile_Plot_Aruvi.ipynb',\n",
       " '~$ey_strain_plotted_with_Stress.xlsx',\n",
       " '~$Tensile_modified.xlsx']"
      ]
     },
     "execution_count": 4,
     "metadata": {},
     "output_type": "execute_result"
    }
   ],
   "source": [
    "os.chdir('/Users/nicolethomas/Google Drive/Grad School/IACMI Project/Python')\n",
    "\n",
    "import os\n",
    "\n",
    "os.listdir('.')"
   ]
  },
  {
   "cell_type": "code",
   "execution_count": 5,
   "metadata": {
    "collapsed": false
   },
   "outputs": [
    {
     "name": "stdout",
     "output_type": "stream",
     "text": [
      "Input_length:\n",
      "836\n",
      "                                                 Time  Force  Disp\n",
      "Data Acquisition NaN NaN NaN NaN NaN Time:  409.36328    NaN   NaN\n"
     ]
    }
   ],
   "source": [
    "os.chdir('/Users/nicolethomas/Google Drive/Grad School/IACMI Project/Python')\n",
    "\n",
    "import os\n",
    "\n",
    "os.listdir('.')\n",
    "\n",
    "# Reading all the data in csv format to the data frame\n",
    "\n",
    "output = pd.read_csv(\"specimen.csv\",skiprows = 8,names = ['Time','Force','Disp']).dropna(axis = 0)\n",
    "output = output.apply(pd.to_numeric, errors ='coerce')\n",
    "eystrain = pd.read_csv(\"ey_strain.csv\",skiprows = 3,names =['Stage','ey_strain']).dropna(axis =0)\n",
    "eystrain = eystrain.apply(pd.to_numeric, errors='coerce')\n",
    "#mises = pd.read_csv(\"mises.csv\",skiprows = 3, names =['Stage','mises_strain']).dropna(axis = 0)\n",
    "#mises = mises.apply(pd.to_numeric, errors='coerce')\n",
    "#Dimensions = pd.read_table(\"Dimensions.txt\")\n",
    "\n",
    "print('Input_length:')\n",
    "print(len(eystrain))\n",
    "print(output.head(5))"
   ]
  },
  {
   "cell_type": "code",
   "execution_count": null,
   "metadata": {
    "collapsed": true
   },
   "outputs": [],
   "source": []
  },
  {
   "cell_type": "code",
   "execution_count": 6,
   "metadata": {
    "collapsed": false
   },
   "outputs": [
    {
     "ename": "NameError",
     "evalue": "name 'Dimensions' is not defined",
     "output_type": "error",
     "traceback": [
      "\u001b[0;31m---------------------------------------------------------------------------\u001b[0m",
      "\u001b[0;31mNameError\u001b[0m                                 Traceback (most recent call last)",
      "\u001b[0;32m<ipython-input-6-d476b8903dbf>\u001b[0m in \u001b[0;36m<module>\u001b[0;34m()\u001b[0m\n\u001b[1;32m      1\u001b[0m \u001b[0;31m#Calculating Stress from the output data\u001b[0m\u001b[0;34m\u001b[0m\u001b[0;34m\u001b[0m\u001b[0m\n\u001b[0;32m----> 2\u001b[0;31m \u001b[0mArea\u001b[0m \u001b[0;34m=\u001b[0m \u001b[0mint\u001b[0m\u001b[0;34m(\u001b[0m\u001b[0mDimensions\u001b[0m\u001b[0;34m[\u001b[0m\u001b[0;34m\"Width\"\u001b[0m\u001b[0;34m]\u001b[0m\u001b[0;34m*\u001b[0m\u001b[0mDimensions\u001b[0m\u001b[0;34m[\u001b[0m\u001b[0;34m\"Thickness\"\u001b[0m\u001b[0;34m]\u001b[0m\u001b[0;34m)\u001b[0m\u001b[0;34m\u001b[0m\u001b[0m\n\u001b[0m\u001b[1;32m      3\u001b[0m \u001b[0;34m\u001b[0m\u001b[0m\n\u001b[1;32m      4\u001b[0m \u001b[0;31m# Changing strain from percentage to mm/mm format\u001b[0m\u001b[0;34m\u001b[0m\u001b[0;34m\u001b[0m\u001b[0m\n\u001b[1;32m      5\u001b[0m \u001b[0meystrain\u001b[0m\u001b[0;34m[\u001b[0m\u001b[0;34m\"ey_strain\"\u001b[0m\u001b[0;34m]\u001b[0m \u001b[0;34m=\u001b[0m \u001b[0meystrain\u001b[0m\u001b[0;34m[\u001b[0m\u001b[0;34m\"ey_strain\"\u001b[0m\u001b[0;34m]\u001b[0m\u001b[0;34m/\u001b[0m\u001b[0;36m100\u001b[0m\u001b[0;34m\u001b[0m\u001b[0m\n",
      "\u001b[0;31mNameError\u001b[0m: name 'Dimensions' is not defined"
     ]
    }
   ],
   "source": [
    "#Calculating Stress from the output data \n",
    "Area = int(Dimensions[\"Width\"]*Dimensions[\"Thickness\"])\n",
    "\n",
    "# Changing strain from percentage to mm/mm format\n",
    "eystrain[\"ey_strain\"] = eystrain[\"ey_strain\"]/100\n",
    "mises[\"mises_strain\"] = mises[\"mises_strain\"]/100\n",
    "\n",
    "# Calculating Stress from force \n",
    "output[\"stress\"] = output[\"Force\"]/Area \n",
    "\n",
    "# Assembling all the data to a data frame\n",
    "data = pd.concat(\n",
    "    [output['Time'], output['stress'], eystrain['Stage'], eystrain['ey_strain'], mises['mises_strain']], \n",
    "    axis = 1, keys= ['time','stress','stage','strain','mises'])\n",
    "\n",
    "print(data.head(10))\n"
   ]
  },
  {
   "cell_type": "code",
   "execution_count": null,
   "metadata": {
    "collapsed": false
   },
   "outputs": [],
   "source": [
    "#Filtering stress\n",
    "\n",
    "#Filtering out the Stress data corresponding to each Strain Stage\n",
    "\n",
    "Stress = []\n",
    "time = np.array(data['time'])\n",
    "stage = np.array(data['stage'].dropna())\n",
    "time_sorted = []\n",
    "\n",
    "# Finding closest time value of stress corresponding to each strain stage data\n",
    "for i in range(0, len(stage)):\n",
    "    time_sorted.append(min(range(len(time)), key=lambda j: abs(time[j]-stage[i])))\n",
    "\n",
    "for i in range (0, len(time_sorted)):\n",
    "        Stress.append(data['stress'][time_sorted[i]]) \n",
    "\n",
    "Strain = np.array(data[\"strain\"].dropna())\n",
    "Mises = np.array(data[\"mises\"].dropna())\n",
    "\n",
    "print(len(Strain))\n",
    "print(len(Stress))\n",
    "\n"
   ]
  },
  {
   "cell_type": "markdown",
   "metadata": {},
   "source": [
    "# Finding Split point "
   ]
  },
  {
   "cell_type": "code",
   "execution_count": null,
   "metadata": {
    "collapsed": false
   },
   "outputs": [],
   "source": [
    "def Split_Stress(stress, strain):\n",
    "    \n",
    "    # Split_point is strain at whaich standard deviation(ymodulus)/mean(ymodulus) > 10 %\n",
    "    \n",
    "    ymodulus = []\n",
    "    \n",
    "    for i in range(0,len(strain)-10):\n",
    "        ymodulus.append((stress[i+10] - stress[i])/(strain[i+10] - strain[i]))\n",
    "        m = np.mean(ymodulus)\n",
    "        s = np.std(ymodulus)\n",
    "        p = (s/m)*100\n",
    "        if np.floor(p) > 10:\n",
    "            global Split_Point\n",
    "            Split_Point = strain[i]  \n",
    "            break\n",
    "\n",
    "    #Calculating Young's Modulus from raw data ey_strain\n",
    "\n",
    "    #Filtering out the linear potion of the ey_strain and stress data to find the slope\n",
    "\n",
    "    linear_strain = []\n",
    "    linear_stress = []\n",
    "    strain_deviation = []\n",
    "\n",
    "    for i in range(0, len(strain)):\n",
    "        if strain[i] < Split_Point:\n",
    "            linear_strain.append(strain[i])\n",
    "            linear_stress.append(stress[i])\n",
    "    \n",
    "    linear_strain = np.array(linear_strain)\n",
    "    linear_stress = np.array(linear_stress)\n",
    "\n",
    "    linear_strain = linear_strain[:,np.newaxis]\n",
    "           \n",
    "    E_trial,r,_,_ = np.linalg.lstsq(linear_strain,linear_stress)    # Finding Young's Modulus by forcing to zero intercept\n",
    "    \n",
    "    # Calculating mean strain deviation for the linear_stress, linear_strain data\n",
    "    \n",
    "    for i in range(0,len(linear_strain)):\n",
    "        strain_deviation.append((linear_strain[i] - linear_stress[i]/E_trial))\n",
    "        \n",
    "    mean_strain_deviation = np.mean(strain_deviation)\n",
    "    \n",
    "    # Filtering out the stress, strain data with strain deviation within bounds \n",
    "    # of mean strain deviation +/- Extensometer least count\n",
    "            \n",
    "    filtered_stress =[]\n",
    "    \n",
    "    for i in range(0,len(strain)):\n",
    "            if mean_strain_deviation-0.00005 < (strain[i]- (stress[i]/E_trial)) < mean_strain_deviation + 0.00005 :\n",
    "                filtered_stress.append(stress[i])\n",
    "    break_stress = np.max(filtered_stress)\n",
    "    return(break_stress)\n",
    "print('done')"
   ]
  },
  {
   "cell_type": "markdown",
   "metadata": {},
   "source": [
    "# Finding Mechanical Properties "
   ]
  },
  {
   "cell_type": "code",
   "execution_count": null,
   "metadata": {
    "collapsed": false
   },
   "outputs": [],
   "source": [
    "# Function to calculate Mechanical Properties\n",
    "\n",
    "def Mechanical_Properties(stress, strain, split_stress):\n",
    "\n",
    "    #Calculating Young's Modulus from raw data ey_strain\n",
    "\n",
    "    #Filtering out the linear potion of the ey_strain and stress data to find the slope\n",
    "\n",
    "    linear_strain = []\n",
    "    linear_stress = []\n",
    "\n",
    "    for i in range(0, len(stress)):\n",
    "        if stress[i] < split_stress:\n",
    "            linear_strain.append(strain[i])\n",
    "            linear_stress.append(stress[i])\n",
    "\n",
    "    # Filtering out the linear potion of the ey_strain and stress data to fit a polynomial\n",
    "\n",
    "    nonlinear_strain =[]\n",
    "    nonlinear_stress =[]\n",
    "\n",
    "    for i in range(0,len(stress)):\n",
    "        if stress[i] > split_stress:\n",
    "            nonlinear_strain.append(strain[i])\n",
    "            nonlinear_stress.append(stress[i])\n",
    "            \n",
    "    linear_strain = np.array(linear_strain)\n",
    "    linear_stress = np.array(linear_stress)\n",
    "\n",
    "    linear_strain = linear_strain[:,np.newaxis]\n",
    "\n",
    "    E,r,_,_ = np.linalg.lstsq(linear_strain,linear_stress)\n",
    "    \n",
    "\n",
    "    #Calculating R^2 value\n",
    "    K = len(linear_stress)\n",
    "    r_squared =  1 - r /(K * linear_stress.var())\n",
    "\n",
    "    #Calculating coefficient of variation\n",
    "    V = 100*np.sqrt(((1/r_squared)-1)/(K-2))\n",
    "    \n",
    "    \n",
    "    #Fitting a polynomial curve to the nonlinear portion of stress-strain curve\n",
    "    #p = np.polyfit(nonlinear_strain,nonlinear_stress,20)\n",
    "    #p1d = np.poly1d(p)\n",
    "    \n",
    "    \n",
    "    #Finding Ultimate Stress and Strain\n",
    "    ucs = np.amax(stress)\n",
    "    ucstrain = np.max(strain)\n",
    "    #oldcode  ucs = np.amax(stress)    ucstrain = np.amax(strain)\n",
    "\n",
    "\n",
    "    # To find yield stress from initially filtered data of Engineering strain vs Engineering stress\n",
    "    # This works by finding intersection point of the straight line and polynomial\n",
    "\n",
    "    x = np.linspace(0.002,0.05,100000)\n",
    "\n",
    "    for i in range(0,len(x)):\n",
    "        if (E*(x[i] -0.002)) > (p1d(x[i])):\n",
    "            yieldstrain = x[i]\n",
    "            yieldstress = p1d(x[i])\n",
    "            break \n",
    "\n",
    "    #Caculating ductility from filtered data ey_strain\n",
    "        \n",
    "    #ductility = (ucstrain - yieldstrain)*100\n",
    "    return(yieldstress,ucs,E,ductility,r_squared,K,V) #Old code return(yieldstress,ucs,E,ductility,r_squared,K,V)\n",
    "\n",
    "print(\"done\")\n"
   ]
  },
  {
   "cell_type": "code",
   "execution_count": null,
   "metadata": {
    "collapsed": false
   },
   "outputs": [],
   "source": [
    "#Mechanical properties in different processing conditions\n",
    "\n",
    "uniaxial_split = Split_Stress(Stress,Strain)   # Passing uniaxial strain, uniaxial stress\n",
    "print(uniaxial_split)\n",
    "mises_split = Split_Stress(Stress, Mises)      # Passing mises strain, uniaxial stress\n",
    "print(mises_split)\n",
    "\n",
    "[y,ucs,E,d,R2,K,V] = Mechanical_Properties(Stress,Strain,uniaxial_split)\n",
    "\n",
    "\n",
    "[y1,ucs1,E1,d1,R2_1,K1,V1] = Mechanical_Properties(Stress,Mises,mises_split)\n",
    "\n",
    "dir = 'Results'\n",
    "if not os.path.exists(dir):\n",
    "    os.makedirs(dir)\n",
    "else:\n",
    "    shutil.rmtree(dir)           #removes all the subdirectories!\n",
    "    os.makedirs(dir)\n",
    "\n",
    "os.chdir('Results')\n",
    "\n",
    "\n",
    "\n",
    "Data = pd.DataFrame({'Strain':Strain,'Mises':Mises,'Stress':Stress},columns = ['Strain','Mises','Stress'])\n",
    "\n",
    "Results = pd.DataFrame({'Result Type':['Uniaxial','Mises'],'Yield Strength(Mpa)':[y,y1],'Ultimate Strength(Mpa)':[ucs,ucs1],\n",
    "                        'Youngs Modulus(Gpa)':[E/1000,E1/1000],'Ductility':[d,d1],'R^2':[R2,R2_1],'Data Points':[K,K1],'CoV(%)':[V,V1]},\n",
    "                        columns = ['Result Type','Yield Strength(Mpa)','Ultimate Strength(Mpa)','Youngs Modulus(Gpa)',\n",
    "                                   'Ductility','R^2','Data Points','CoV(%)'])\n",
    "\n",
    "Results.to_csv('Results.csv')\n",
    "Data.to_csv('Data.csv')\n",
    "\n",
    "print(Results)\n"
   ]
  },
  {
   "cell_type": "code",
   "execution_count": null,
   "metadata": {
    "collapsed": false
   },
   "outputs": [],
   "source": [
    "# Plotting \n",
    "\n",
    "# To draw straight line in graph\n",
    "\n",
    "b = np.linspace(0,0.01,1000)\n",
    "g = np.linspace(0.002,0.015,2000)\n",
    "\n",
    "a = E*b\n",
    "c = E*(g - 0.002)\n",
    "\n",
    "a1 = E1*b\n",
    "c1 = E1*(g - 0.002)\n",
    "\n",
    "#plt.clf()\n",
    "\n",
    "plt.figure(figsize = (20,15))\n",
    "plt.rc('xtick', labelsize=20) \n",
    "plt.rc('ytick', labelsize=20)\n",
    "plt.plot(Strain, Stress, 'k.')\n",
    "plt.plot(b,a,'-')\n",
    "plt.plot(g,c,'-')\n",
    "plt.xlabel('Engineering Strain (mm/mm)', fontsize = 20)\n",
    "plt.ylabel('Engineering Stress (Mpa)', fontsize = 20)\n",
    "plt.xlim([0,0.02])\n",
    "plt.ylim([0,1500])\n",
    "plt.savefig('Eng_Strain_Stress.tiff')\n",
    "\n",
    "plt.figure(figsize = (20,15))\n",
    "plt.rc('xtick', labelsize=20) \n",
    "plt.rc('ytick', labelsize=20)\n",
    "plt.plot(Mises, Stress, 'k.')\n",
    "plt.plot(b,a1,'-')\n",
    "plt.plot(g,c1,'-')\n",
    "plt.xlabel('Mises Strain (mm/mm)', fontsize = 20)\n",
    "plt.ylabel('Engineering Stress (Mpa)', fontsize = 20)\n",
    "plt.xlim([0,0.02])\n",
    "plt.ylim([0,1500])\n",
    "plt.savefig('Mises_Strain_Stress_Galvanized.tiff')\n",
    "\n",
    "plt.show()\n"
   ]
  },
  {
   "cell_type": "code",
   "execution_count": null,
   "metadata": {
    "collapsed": false
   },
   "outputs": [],
   "source": [
    "#os.chdir('..')\n",
    "#os.getcwd()\n",
    "#for d in os.listdir(os.getcwd()):\n",
    "#    os.chdir(d)\n",
    "#    os.mkdir('RREESSUULLTTSS')\n",
    "#    os.chdir('..')"
   ]
  },
  {
   "cell_type": "code",
   "execution_count": null,
   "metadata": {
    "collapsed": false,
    "scrolled": true
   },
   "outputs": [],
   "source": [
    "#os.chdir('E:\\Python\\Tensile_Plot\\Data')\n",
    "#os.getcwd()"
   ]
  },
  {
   "cell_type": "code",
   "execution_count": null,
   "metadata": {
    "collapsed": false
   },
   "outputs": [],
   "source": [
    "# ASSUME IN SAME FOLDERS AS SAMPLE FOLDERS (i.e. A09)\n",
    "#samples = glob.glob('A*')\n",
    "\n",
    "#for sample in samples:\n",
    "    # change such that you can list the csv folders for a single sample\n",
    "    \n",
    "    # List csv files\n",
    "    #strain_files = glob.glob(sample+'/*csv')\n",
    "    \n",
    "    \n",
    "    # Call conversion function\n",
    "    #df = read_csv_to_df(strain_files[0], strain_files[1], strain_files[2])\n",
    "    \n",
    "    # Call analysis\n",
    "    #results = analysis_function(df)\n",
    "    \n",
    "    \n",
    "    # Write results\n",
    "    \n",
    "\n"
   ]
  }
 ],
 "metadata": {
  "kernelspec": {
   "display_name": "Python 3",
   "language": "python",
   "name": "python3"
  },
  "language_info": {
   "codemirror_mode": {
    "name": "ipython",
    "version": 3
   },
   "file_extension": ".py",
   "mimetype": "text/x-python",
   "name": "python",
   "nbconvert_exporter": "python",
   "pygments_lexer": "ipython3",
   "version": "3.6.0"
  }
 },
 "nbformat": 4,
 "nbformat_minor": 0
}
