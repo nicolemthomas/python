{
 "cells": [
  {
   "cell_type": "markdown",
   "metadata": {},
   "source": [
    "# Notebook to process IACMI stress-strain curve data\n",
    "\n",
    "This is useful for generating stress-strain information on the MTS 370.10 and 370.02 in W230 using an extensometer."
   ]
  },
  {
   "cell_type": "code",
   "execution_count": 28,
   "metadata": {
    "collapsed": true
   },
   "outputs": [],
   "source": [
    "import numpy as np\n",
    "import pandas as pd\n",
    "\n",
    "import os\n",
    "import matplotlib.pyplot as plt \n",
    "from scipy import stats \n",
    "import shutil\n",
    "from io import StringIO\n",
    "import statsmodels.formula.api as smf"
   ]
  },
  {
   "cell_type": "markdown",
   "metadata": {},
   "source": [
    "## User input\n",
    "\n",
    "- force/strain filename\n",
    "- sample cross sectional area"
   ]
  },
  {
   "cell_type": "code",
   "execution_count": 29,
   "metadata": {
    "collapsed": false
   },
   "outputs": [
    {
     "name": "stdout",
     "output_type": "stream",
     "text": [
      "Input the width of the sample in millimeters:15\n",
      "0.015\n",
      "Input the thickness of the sample in millimeters:4\n",
      "Cross-sectional area= 0.000060 m^2\n"
     ]
    }
   ],
   "source": [
    "# Setting the directory\n",
    "os.chdir('/Users/nicolethomas/Google Drive/Grad School/IACMI Project/Python')\n",
    "\n",
    "# Set file name\n",
    "filename = \"tensile.csv\"\n",
    "\n",
    "# Set results output filename\n",
    "Results = \"tensile_results.csv\"\n",
    "\n",
    "# Input dimensions and calculate area\n",
    "b=float(input('Input the width of the sample in millimeters:'))/1000\n",
    "print (b)\n",
    "h=float(input('Input the thickness of the sample in millimeters:'))/1000\n",
    "Area = b*h\n",
    "\n",
    "print ((\"Cross-sectional area= %f m^2\") %Area)\n",
    "\n",
    "#Aruvi's area code: Area = int(Dimensions[\"Width\"]*Dimensions[\"Thickness\"])"
   ]
  },
  {
   "cell_type": "markdown",
   "metadata": {},
   "source": [
    "## Read input file\n",
    "\n",
    "The time, force, displacement and extensometer information is provided in a single file since the extensometer is connected to the MTS software. This is read into a pandas DataFrame."
   ]
  },
  {
   "cell_type": "code",
   "execution_count": 30,
   "metadata": {
    "collapsed": false
   },
   "outputs": [
    {
     "name": "stdout",
     "output_type": "stream",
     "text": [
      "Input_size:\n",
      "(1168, 2)\n",
      "   Axial Extensometer  Axial Force\n",
      "1           -0.000164    681.18506\n",
      "2           -0.000153    680.99847\n",
      "3           -0.000233    679.72717\n",
      "4           -0.000193    679.57990\n",
      "5           -0.000287    680.89185\n"
     ]
    }
   ],
   "source": [
    "def scrub_file(filename, separator=',', skip_header=0):\n",
    "    # initialize variables\n",
    "    line = \"\"\n",
    "    contents = \"\"\n",
    "    lineno = 0\n",
    "    numfields = 0\n",
    "    # what conversion are we performing? what does it return if the\n",
    "    # conversion fails?\n",
    "    def tofloat(x):\n",
    "        try:\n",
    "            return float(x)\n",
    "        except ValueError:\n",
    "            return np.nan\n",
    "    # this is going to handle reading a line from the file, and automatically\n",
    "    # do anything else we need, such as keep track of which line number\n",
    "    # we're on.\n",
    "    def readline():\n",
    "        nonlocal line, fstream\n",
    "        #global line\n",
    "        line = fstream.readline()\n",
    "        #lineno += 1\n",
    "        return line\n",
    "    # set the converter\n",
    "    convert = tofloat\n",
    "    # read the file\n",
    "    with open(filename) as fstream:\n",
    "        # pass header rows straight through\n",
    "        for _ in range(skip_header):\n",
    "            contents.append(readline(fstream))\n",
    "        # check how many fields fail conversion\n",
    "        while readline():\n",
    "            # process the line into fields (comma-separated by default)\n",
    "            fields = [convert(field) for field in line.split(separator)]\n",
    "            # how many of these fields are not NaN when an attempt is made\n",
    "            # to convert them to a float?\n",
    "            notnan = np.sum(~np.isnan(fields))\n",
    "            # **This is where all the work is done!** How do you know if a row is\n",
    "            # bad? Is it bad if all fields fail the conversion? All-but-one? All-but-two?\n",
    "            # You have to look at the source file and make this determination, then\n",
    "            # change this inequality. Only rows that pass the test are kept.\n",
    "            if notnan > 0:\n",
    "                contents += line\n",
    "            # update the numfields variable -- this tracks the row with the most\n",
    "            # number of fields.\n",
    "            numfields = max(notnan, numfields)\n",
    "    # now return the good lines (a.k.a. records) as a StringIO object. (StringIO\n",
    "    # allows you to read from a string object as if it were a file.)\n",
    "    return StringIO(contents)\n",
    "\n",
    "# now use the output from scrub_file in your earlier code, e.g.\n",
    "tensile = pd.read_csv(scrub_file(filename),\n",
    "    usecols=[2,4],\n",
    "    names = ['Axial Extensometer', 'Axial Force']).dropna(axis = 0)\n",
    "\n",
    "# check input file info\n",
    "print('Input_size:')\n",
    "print(tensile.shape)\n",
    "print(tensile.head(5))"
   ]
  },
  {
   "cell_type": "markdown",
   "metadata": {},
   "source": [
    "## Process the input data\n",
    "\n",
    "- calculate stress data from force and cross sectional area\n",
    "- calculate strain data (no conversion, just extensometer input)"
   ]
  },
  {
   "cell_type": "code",
   "execution_count": 31,
   "metadata": {
    "collapsed": false
   },
   "outputs": [
    {
     "name": "stdout",
     "output_type": "stream",
     "text": [
      "The max load on your sample is 44460.102000 N\n",
      "The tensile strength of your sample is 741.001700 MPa\n",
      "1    11.353084\n",
      "2    11.349975\n",
      "3    11.328786\n",
      "4    11.326332\n",
      "5    11.348197\n",
      "Name: Axial Force, dtype: float64\n",
      "1   -0.000164\n",
      "2   -0.000153\n",
      "3   -0.000233\n",
      "4   -0.000193\n",
      "5   -0.000287\n",
      "Name: Axial Extensometer, dtype: float64\n"
     ]
    }
   ],
   "source": [
    "#Find the maximum force (in N) and calculste the max stress (in MPa)\n",
    "Max_load=tensile['Axial Force'].values.max()\n",
    "Stress = tensile[\"Axial Force\"]/(1000000*Area)\n",
    "\n",
    "#Read in strain data (already formatted in mm/mm)\n",
    "Strain = tensile[\"Axial Extensometer\"]\n",
    "\n",
    "#print(tensile[\"Stress\"].head(5))\n",
    "print (('The max load on your sample is %f N') %Max_load)\n",
    "print (('The tensile strength of your sample is %f MPa') %Stress.max()) \n",
    "\n",
    "print(Stress.head(5))\n",
    "print(Strain.head(5))"
   ]
  },
  {
   "cell_type": "markdown",
   "metadata": {},
   "source": [
    "# Plot stress vs. strain\n",
    "\n",
    "Sanity check to ensure everything looks OK.\n",
    "\n",
    "- Is there a compliance region?\n",
    "- Do we need to eliminate any outliers (data collected after failure)."
   ]
  },
  {
   "cell_type": "code",
   "execution_count": 33,
   "metadata": {
    "collapsed": false
   },
   "outputs": [
    {
     "ename": "KeyError",
     "evalue": "0",
     "output_type": "error",
     "traceback": [
      "\u001b[0;31m---------------------------------------------------------------------------\u001b[0m",
      "\u001b[0;31mKeyError\u001b[0m                                  Traceback (most recent call last)",
      "\u001b[0;32m<ipython-input-33-842652fed5b1>\u001b[0m in \u001b[0;36m<module>\u001b[0;34m()\u001b[0m\n\u001b[1;32m      5\u001b[0m \u001b[0;34m\u001b[0m\u001b[0m\n\u001b[1;32m      6\u001b[0m \u001b[0;32mfor\u001b[0m \u001b[0mi\u001b[0m \u001b[0;32min\u001b[0m \u001b[0mrange\u001b[0m\u001b[0;34m(\u001b[0m\u001b[0;36m0\u001b[0m\u001b[0;34m,\u001b[0m \u001b[0mlen\u001b[0m\u001b[0;34m(\u001b[0m\u001b[0mStrain\u001b[0m\u001b[0;34m)\u001b[0m\u001b[0;34m)\u001b[0m\u001b[0;34m:\u001b[0m\u001b[0;34m\u001b[0m\u001b[0m\n\u001b[0;32m----> 7\u001b[0;31m     \u001b[0;32mif\u001b[0m \u001b[0mStrain\u001b[0m\u001b[0;34m[\u001b[0m\u001b[0mi\u001b[0m\u001b[0;34m]\u001b[0m \u001b[0;34m>\u001b[0m \u001b[0;36m0\u001b[0m\u001b[0;34m:\u001b[0m\u001b[0;34m\u001b[0m\u001b[0m\n\u001b[0m\u001b[1;32m      8\u001b[0m         \u001b[0mStrain_data\u001b[0m\u001b[0;34m.\u001b[0m\u001b[0mappend\u001b[0m\u001b[0;34m(\u001b[0m\u001b[0mStrain\u001b[0m\u001b[0;34m[\u001b[0m\u001b[0mi\u001b[0m\u001b[0;34m]\u001b[0m\u001b[0;34m)\u001b[0m\u001b[0;34m\u001b[0m\u001b[0m\n\u001b[1;32m      9\u001b[0m         \u001b[0mStress_data\u001b[0m\u001b[0;34m.\u001b[0m\u001b[0mappend\u001b[0m\u001b[0;34m(\u001b[0m\u001b[0mStress\u001b[0m\u001b[0;34m[\u001b[0m\u001b[0mi\u001b[0m\u001b[0;34m]\u001b[0m\u001b[0;34m)\u001b[0m\u001b[0;34m\u001b[0m\u001b[0m\n",
      "\u001b[0;32m/Users/nicolethomas/anaconda/lib/python3.6/site-packages/pandas/core/series.py\u001b[0m in \u001b[0;36m__getitem__\u001b[0;34m(self, key)\u001b[0m\n\u001b[1;32m    601\u001b[0m         \u001b[0mkey\u001b[0m \u001b[0;34m=\u001b[0m \u001b[0mcom\u001b[0m\u001b[0;34m.\u001b[0m\u001b[0m_apply_if_callable\u001b[0m\u001b[0;34m(\u001b[0m\u001b[0mkey\u001b[0m\u001b[0;34m,\u001b[0m \u001b[0mself\u001b[0m\u001b[0;34m)\u001b[0m\u001b[0;34m\u001b[0m\u001b[0m\n\u001b[1;32m    602\u001b[0m         \u001b[0;32mtry\u001b[0m\u001b[0;34m:\u001b[0m\u001b[0;34m\u001b[0m\u001b[0m\n\u001b[0;32m--> 603\u001b[0;31m             \u001b[0mresult\u001b[0m \u001b[0;34m=\u001b[0m \u001b[0mself\u001b[0m\u001b[0;34m.\u001b[0m\u001b[0mindex\u001b[0m\u001b[0;34m.\u001b[0m\u001b[0mget_value\u001b[0m\u001b[0;34m(\u001b[0m\u001b[0mself\u001b[0m\u001b[0;34m,\u001b[0m \u001b[0mkey\u001b[0m\u001b[0;34m)\u001b[0m\u001b[0;34m\u001b[0m\u001b[0m\n\u001b[0m\u001b[1;32m    604\u001b[0m \u001b[0;34m\u001b[0m\u001b[0m\n\u001b[1;32m    605\u001b[0m             \u001b[0;32mif\u001b[0m \u001b[0;32mnot\u001b[0m \u001b[0mis_scalar\u001b[0m\u001b[0;34m(\u001b[0m\u001b[0mresult\u001b[0m\u001b[0;34m)\u001b[0m\u001b[0;34m:\u001b[0m\u001b[0;34m\u001b[0m\u001b[0m\n",
      "\u001b[0;32m/Users/nicolethomas/anaconda/lib/python3.6/site-packages/pandas/indexes/base.py\u001b[0m in \u001b[0;36mget_value\u001b[0;34m(self, series, key)\u001b[0m\n\u001b[1;32m   2167\u001b[0m         \u001b[0;32mtry\u001b[0m\u001b[0;34m:\u001b[0m\u001b[0;34m\u001b[0m\u001b[0m\n\u001b[1;32m   2168\u001b[0m             return self._engine.get_value(s, k,\n\u001b[0;32m-> 2169\u001b[0;31m                                           tz=getattr(series.dtype, 'tz', None))\n\u001b[0m\u001b[1;32m   2170\u001b[0m         \u001b[0;32mexcept\u001b[0m \u001b[0mKeyError\u001b[0m \u001b[0;32mas\u001b[0m \u001b[0me1\u001b[0m\u001b[0;34m:\u001b[0m\u001b[0;34m\u001b[0m\u001b[0m\n\u001b[1;32m   2171\u001b[0m             \u001b[0;32mif\u001b[0m \u001b[0mlen\u001b[0m\u001b[0;34m(\u001b[0m\u001b[0mself\u001b[0m\u001b[0;34m)\u001b[0m \u001b[0;34m>\u001b[0m \u001b[0;36m0\u001b[0m \u001b[0;32mand\u001b[0m \u001b[0mself\u001b[0m\u001b[0;34m.\u001b[0m\u001b[0minferred_type\u001b[0m \u001b[0;32min\u001b[0m \u001b[0;34m[\u001b[0m\u001b[0;34m'integer'\u001b[0m\u001b[0;34m,\u001b[0m \u001b[0;34m'boolean'\u001b[0m\u001b[0;34m]\u001b[0m\u001b[0;34m:\u001b[0m\u001b[0;34m\u001b[0m\u001b[0m\n",
      "\u001b[0;32mpandas/index.pyx\u001b[0m in \u001b[0;36mpandas.index.IndexEngine.get_value (pandas/index.c:3557)\u001b[0;34m()\u001b[0m\n",
      "\u001b[0;32mpandas/index.pyx\u001b[0m in \u001b[0;36mpandas.index.IndexEngine.get_value (pandas/index.c:3240)\u001b[0;34m()\u001b[0m\n",
      "\u001b[0;32mpandas/index.pyx\u001b[0m in \u001b[0;36mpandas.index.IndexEngine.get_loc (pandas/index.c:4279)\u001b[0;34m()\u001b[0m\n",
      "\u001b[0;32mpandas/src/hashtable_class_helper.pxi\u001b[0m in \u001b[0;36mpandas.hashtable.Int64HashTable.get_item (pandas/hashtable.c:8564)\u001b[0;34m()\u001b[0m\n",
      "\u001b[0;32mpandas/src/hashtable_class_helper.pxi\u001b[0m in \u001b[0;36mpandas.hashtable.Int64HashTable.get_item (pandas/hashtable.c:8508)\u001b[0;34m()\u001b[0m\n",
      "\u001b[0;31mKeyError\u001b[0m: 0"
     ]
    }
   ],
   "source": [
    "#Remove data after break\n",
    "#for strains <0, delete entries\n",
    "Strain_data = []\n",
    "Stress_data = []\n",
    "\n",
    "for i in range(0, len(Strain)):\n",
    "    if Strain[i] > 0:\n",
    "        Strain_data.append(Strain[i])\n",
    "        Stress_data.append(Stress[i])\n",
    "\n",
    "Data = pd.DataFrame({'Stress':Stress_data,'Strain':Strain_data},columns = ['Stress','Strain'])\n",
    "print(Data.head(5))"
   ]
  },
  {
   "cell_type": "markdown",
   "metadata": {},
   "source": [
    "## Calculate mechanical properties\n",
    "\n",
    "- Young's modulus (according to ISO 527)\n",
    "    - Fixed strain range, 0.005 to 0.025 mm/mm\n",
    "    - Linear regression\n",
    "        - Slope\n",
    "        - $\\sigma_{slope}$\n",
    "        - Stress at failure\n",
    "        - Strain at failure"
   ]
  },
  {
   "cell_type": "code",
   "execution_count": null,
   "metadata": {
    "collapsed": true
   },
   "outputs": [],
   "source": []
  }
 ],
 "metadata": {
  "kernelspec": {
   "display_name": "Python 3",
   "language": "python",
   "name": "python3"
  },
  "language_info": {
   "codemirror_mode": {
    "name": "ipython",
    "version": 3
   },
   "file_extension": ".py",
   "mimetype": "text/x-python",
   "name": "python",
   "nbconvert_exporter": "python",
   "pygments_lexer": "ipython3",
   "version": "3.6.0"
  }
 },
 "nbformat": 4,
 "nbformat_minor": 2
}
